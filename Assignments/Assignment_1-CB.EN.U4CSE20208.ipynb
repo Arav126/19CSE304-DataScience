{
 "cells": [
  {
   "cell_type": "markdown",
   "id": "18ecd68e-ff0d-4aeb-a27d-6eb54b19087b",
   "metadata": {},
   "source": [
    "# Assignment 1"
   ]
  },
  {
   "cell_type": "markdown",
   "id": "753f6d7e-4f94-4199-879a-3b0a2b0bf5f5",
   "metadata": {},
   "source": [
    "## First Half"
   ]
  },
  {
   "cell_type": "markdown",
   "id": "ba5fdb00-edce-408a-bb2e-8ead809e1c1c",
   "metadata": {},
   "source": [
    "1.\tGenerate a tuple from the set [\"aman\", \"222\", 777, 400.4]\n",
    "2.\tCreate a dictionary of your basic data : (a) Roll No (b) Last Name (c) First Name (d) Date of birth. Print out the values and keys.\n",
    "3.\tUse rand function to generate a 2-dimensional random array with seed.\n",
    "4.\tGenerate a single random number in [0.0, 1.0]. Find the absolute value of (-1234)\n",
    "5.\tReturn a random integer N such that 20 <= N <= 90. \n",
    "6.\tGiven a population or set[11, 12, 13,14, 15]\n",
    "- Return a 3 length list of unique elements without replacement.\n",
    "- Shuffle the above set\n",
    "- Print a random number from the set\n",
    "7.\tWrite the text \"The King is Dead, Long Live The King\" on to a file in your hard drive; read and print the text.\n",
    "8.\tCreate an illustrative function to demonstrate use of: if, elif and else (b) for, while, break and continue. \n",
    "9.\tGiven a string \"The King is Dead, Long Live The King\" \n",
    "- Print the complete string\n",
    "- Print first character of the string\n",
    "- Print characters starting from 3rd to 5th\n",
    "- Print string starting from 3rd character\n",
    "- Split the words\n",
    "10. An array can be created from a list:  Create an array from a list comprising of numbers 1,4,5,8 (treat them as floats).Slice the above array to display first and second elements"
   ]
  },
  {
   "cell_type": "markdown",
   "id": "65f74ccc-9d73-42ed-8624-7aa595705a3a",
   "metadata": {
    "jp-MarkdownHeadingCollapsed": true,
    "tags": []
   },
   "source": [
    "### Question 1"
   ]
  },
  {
   "cell_type": "code",
   "execution_count": 2,
   "id": "3806fb73-cd40-450a-9c77-13575bd0e688",
   "metadata": {},
   "outputs": [
    {
     "name": "stdout",
     "output_type": "stream",
     "text": [
      "(400.4, 777, 'aman', '222')\n",
      "<class 'tuple'>\n"
     ]
    }
   ],
   "source": [
    "s = set([\"aman\", \"222\", 777, 400.4])\n",
    "tup = tuple(s)\n",
    "print(tup)\n",
    "print(type(tup))"
   ]
  },
  {
   "cell_type": "markdown",
   "id": "f90c5234-fa62-4f6a-b020-a3ac4850d578",
   "metadata": {
    "jp-MarkdownHeadingCollapsed": true,
    "tags": []
   },
   "source": [
    "### Question 2"
   ]
  },
  {
   "cell_type": "code",
   "execution_count": 3,
   "id": "08aaa915-5938-4589-ab23-19541b6c5c15",
   "metadata": {},
   "outputs": [
    {
     "name": "stdout",
     "output_type": "stream",
     "text": [
      "{'roll': 20208, 'name': 'Aravind', 'dob': '08-05-02'}\n"
     ]
    }
   ],
   "source": [
    "dict = {'roll' : 20208,\n",
    "        'name' : 'Aravind',\n",
    "        'dob' : '08-05-02'}\n",
    "print(dict)"
   ]
  },
  {
   "cell_type": "markdown",
   "id": "941724c9-e9bb-4b10-b78d-8235abcfdd8a",
   "metadata": {
    "jp-MarkdownHeadingCollapsed": true,
    "tags": []
   },
   "source": [
    "### Question 3"
   ]
  },
  {
   "cell_type": "code",
   "execution_count": 4,
   "id": "0ae852f5-aa34-49f0-83b8-061d704d0fea",
   "metadata": {},
   "outputs": [],
   "source": [
    "import numpy as np"
   ]
  },
  {
   "cell_type": "code",
   "execution_count": 6,
   "id": "499ef3c7-41b1-4b72-8829-195a2bf3d4c9",
   "metadata": {},
   "outputs": [
    {
     "data": {
      "text/plain": [
       "array([[3, 6, 7, 0],\n",
       "       [7, 7, 6, 6]])"
      ]
     },
     "execution_count": 6,
     "metadata": {},
     "output_type": "execute_result"
    }
   ],
   "source": [
    "arr = np.random.randint(9,size=(2,4))\n",
    "arr"
   ]
  },
  {
   "cell_type": "markdown",
   "id": "ec57e2cc-4c2c-4ad8-a842-2038c861d116",
   "metadata": {
    "jp-MarkdownHeadingCollapsed": true,
    "tags": []
   },
   "source": [
    "### Question 4"
   ]
  },
  {
   "cell_type": "code",
   "execution_count": 14,
   "id": "121ea261-58c2-4200-a54c-3a1ecb107b4f",
   "metadata": {},
   "outputs": [],
   "source": [
    "import random"
   ]
  },
  {
   "cell_type": "code",
   "execution_count": 15,
   "id": "9f969eab-07ae-476a-97fc-751466b14afa",
   "metadata": {},
   "outputs": [
    {
     "name": "stdout",
     "output_type": "stream",
     "text": [
      "1\n",
      "1234\n"
     ]
    }
   ],
   "source": [
    "num = random.randint(1,10)\n",
    "print(num)\n",
    "print(abs(-1234))"
   ]
  },
  {
   "cell_type": "markdown",
   "id": "295aaa6a-e736-42d6-b274-b68db095ffc4",
   "metadata": {
    "jp-MarkdownHeadingCollapsed": true,
    "tags": []
   },
   "source": [
    "### Question 5"
   ]
  },
  {
   "cell_type": "code",
   "execution_count": 17,
   "id": "00a63a7f-5c3e-40b1-ba58-94f926cc148b",
   "metadata": {},
   "outputs": [
    {
     "name": "stdout",
     "output_type": "stream",
     "text": [
      "82\n"
     ]
    }
   ],
   "source": [
    "num = random.randint(20,90)\n",
    "print(num)"
   ]
  },
  {
   "cell_type": "markdown",
   "id": "ea087cc2-74a3-4b70-9f0c-fd37cb266bdb",
   "metadata": {
    "jp-MarkdownHeadingCollapsed": true,
    "tags": []
   },
   "source": [
    "### Question 6"
   ]
  },
  {
   "cell_type": "code",
   "execution_count": 6,
   "id": "3b48081c-04d5-49ab-b634-dbb5debed172",
   "metadata": {},
   "outputs": [
    {
     "name": "stdout",
     "output_type": "stream",
     "text": [
      "[14]\n",
      "[11 15 13 14 12]\n",
      "[12]\n"
     ]
    }
   ],
   "source": [
    "import numpy as np\n",
    "import random\n",
    "li1=[11, 12, 13,14, 15]\n",
    "\n",
    "newli1=random.sample(li1,3)\n",
    "print(newlist1)\n",
    "\n",
    "nparr=np.array(li1)\n",
    "np.random.shuffle(nparr)\n",
    "\n",
    "print(nparr)\n",
    "\n",
    "newli1=random.sample(li1,1)\n",
    "print(newli1)"
   ]
  },
  {
   "cell_type": "markdown",
   "id": "11597cbe-8fe5-4602-a572-1e5ea9ee53c6",
   "metadata": {
    "jp-MarkdownHeadingCollapsed": true,
    "tags": []
   },
   "source": [
    "### Question 7"
   ]
  },
  {
   "cell_type": "code",
   "execution_count": 57,
   "id": "d1245136-5c37-4948-b436-600b4431892f",
   "metadata": {},
   "outputs": [
    {
     "name": "stdout",
     "output_type": "stream",
     "text": [
      "Read :  The King is Dead, Long Live The KingThe King is Dead, Long Live The KingThe King is Dead, Long Live The King \n"
     ]
    }
   ],
   "source": [
    "file1 = open(\"q7.txt\",\"a\")\n",
    "file1.write(\"The King is Dead, Long Live The King \")\n",
    "file1.close()\n",
    "\n",
    "file1 = open(\"q7.txt\", \"r+\")\n",
    "print('Read : ', file1.read())\n",
    "file1.close()\n"
   ]
  },
  {
   "cell_type": "markdown",
   "id": "14ac3e9e-2fed-4f0a-b041-cca7676b5229",
   "metadata": {
    "jp-MarkdownHeadingCollapsed": true,
    "tags": []
   },
   "source": [
    "### Question 8"
   ]
  },
  {
   "cell_type": "code",
   "execution_count": 18,
   "id": "17750eb3-992c-4f42-95eb-3b96d523d9dd",
   "metadata": {},
   "outputs": [
    {
     "name": "stdout",
     "output_type": "stream",
     "text": [
      "enter choice\n"
     ]
    },
    {
     "name": "stdin",
     "output_type": "stream",
     "text": [
      " 1\n"
     ]
    },
    {
     "name": "stdout",
     "output_type": "stream",
     "text": [
      "one\n",
      "enter range :\n"
     ]
    },
    {
     "name": "stdin",
     "output_type": "stream",
     "text": [
      " 3\n"
     ]
    },
    {
     "name": "stdout",
     "output_type": "stream",
     "text": [
      "0\n",
      "1\n",
      "2\n"
     ]
    }
   ],
   "source": [
    "def ch(n):\n",
    "    if n == 1:\n",
    "        print('one')\n",
    "    elif n == 2:\n",
    "        print('two')\n",
    "    else:\n",
    "        print('not 1 or 2')\n",
    "\n",
    "def ran(n):\n",
    "    for i in range(n):\n",
    "        print(i)\n",
    "        \n",
    "print('enter choice')\n",
    "ch(int(input()))\n",
    "\n",
    "print('enter range :')\n",
    "ran(int(input()))\n",
    "\n"
   ]
  },
  {
   "cell_type": "markdown",
   "id": "d85a8b67-3312-4592-8822-070a318fce6e",
   "metadata": {
    "jp-MarkdownHeadingCollapsed": true,
    "tags": []
   },
   "source": [
    "### Question 9"
   ]
  },
  {
   "cell_type": "code",
   "execution_count": 22,
   "id": "e18cae82-7f43-4ba2-8ae8-cb46833319d3",
   "metadata": {},
   "outputs": [
    {
     "name": "stdout",
     "output_type": "stream",
     "text": [
      "The King is Dead, Long Live The King\n",
      "T\n",
      "e K\n",
      "e King is Dead, Long Live The King\n",
      "['The', 'King', 'is', 'Dead,', 'Long', 'Live', 'The', 'King']\n"
     ]
    }
   ],
   "source": [
    "str = \"The King is Dead, Long Live The King\"\n",
    "print(str)\n",
    "print(str[0])\n",
    "print(str[2:5])\n",
    "print(str[2:])\n",
    "print(str.split(' '))"
   ]
  },
  {
   "cell_type": "markdown",
   "id": "d0f58881-2d2f-4c62-9eee-a66087a92994",
   "metadata": {
    "jp-MarkdownHeadingCollapsed": true,
    "tags": []
   },
   "source": [
    "### Question 10"
   ]
  },
  {
   "cell_type": "code",
   "execution_count": 24,
   "id": "220e0852-c494-45f4-894d-77bc2519ae8b",
   "metadata": {},
   "outputs": [
    {
     "name": "stdout",
     "output_type": "stream",
     "text": [
      "[1, 4]\n"
     ]
    }
   ],
   "source": [
    "arr = list([1,4,5,8])\n",
    "print(arr[0:2])"
   ]
  },
  {
   "cell_type": "markdown",
   "id": "52a2799f-7b05-45b9-bea3-ca8dfe0d6640",
   "metadata": {},
   "source": [
    "## Second Half"
   ]
  },
  {
   "cell_type": "markdown",
   "id": "37604244-156a-41ea-92f2-e11504bc0537",
   "metadata": {},
   "source": [
    "10.\tAn array can be created from a list:  Create an array from a list comprising of numbers 1,4,5,8 (treat them as floats).Slice the above array to display first and second elements\n",
    "11.\tArrays can be multidimensional. Create a two-dimensional array of (1,2,3) and (4,5,6).\n",
    "12.\tArray slicing works with multiple dimensions in the same way as usual, applying each slice specification as a filter to a specified dimension. Consider two-dimensional array of (1,2,3) and (4,5,6).\n",
    "- Slice and display the 2nd row.\n",
    "- Write code to display as array([2., 5.]) \n",
    "- Find the length of the array.\n",
    "13.\tArrays can be reshaped using tuples that specify new dimensions. Turn a ten-element one-dimensional array into a two-dimensional one whose first axis has five elements and whose second axis has two elements. Obtain the transpose of the array\n",
    "14.\tCreate an array from a list of 1,2 and 3.\n",
    "15.\tFill an array [1,2,3] with a single value [9,9,9]. \n",
    "16.\tSum the elements of array [2,4,5].\n",
    "17.\tGive the products of array [77,74,75]\n",
    "18.\tGiven an array [2,1,9,1,2,22,1,1,4,55,6,2,56]. Find mean, variance, max, min, argmin, median, argmax and standard deviation.\n",
    "19.\tExtract unique elements from an array: [1, 1, 4, 5, 5, 5, 7] and sort it.\n",
    "20.\tFind dot product of two arrays [1, 2, 3]and [0, 1, 1]. \n",
    "21.\tFind the eigenvalues and eigenvectors of matrix A.\n",
    "22.\tGiven an array with [11, 22, 11, 31], [25, 33, 31, 28]]. Treat as floats. Find the correlation coefficients."
   ]
  },
  {
   "cell_type": "markdown",
   "id": "18152339-7924-469a-b6b7-ff0fbce6eeb0",
   "metadata": {
    "jp-MarkdownHeadingCollapsed": true,
    "tags": []
   },
   "source": [
    "### Question 11"
   ]
  },
  {
   "cell_type": "code",
   "execution_count": 7,
   "id": "ce7dd28a-3165-4b03-bbae-6940e4a94573",
   "metadata": {},
   "outputs": [
    {
     "name": "stdout",
     "output_type": "stream",
     "text": [
      "[[1 2 3]\n",
      " [4 5 6]]\n"
     ]
    }
   ],
   "source": [
    "arr = np.array([[1, 2, 3], [4, 5, 6]])\n",
    "print(arr)"
   ]
  },
  {
   "cell_type": "markdown",
   "id": "28e4d39a-5254-4605-bc08-fad2049c046c",
   "metadata": {
    "jp-MarkdownHeadingCollapsed": true,
    "tags": []
   },
   "source": [
    "### Question 12"
   ]
  },
  {
   "cell_type": "code",
   "execution_count": 8,
   "id": "29e4744b-a6c8-4e62-a8e3-d850364e49c8",
   "metadata": {},
   "outputs": [
    {
     "name": "stdout",
     "output_type": "stream",
     "text": [
      "[2. 5.]\n",
      "6\n",
      "(2, 3)\n"
     ]
    }
   ],
   "source": [
    "arr = np.array([[1, 2, 3], [4, 5, 6]])\n",
    "arr = arr.astype('float64')\n",
    "print(arr[0:2,1])\n",
    "\n",
    "print(arr.size)\n",
    "print(arr.shape)"
   ]
  },
  {
   "cell_type": "markdown",
   "id": "14072b20-e2ca-41d0-9577-2c92ab84f631",
   "metadata": {
    "tags": []
   },
   "source": [
    "### Question 13"
   ]
  },
  {
   "cell_type": "code",
   "execution_count": 9,
   "id": "728400c9-b11f-4a27-b26f-08b55a3d0d19",
   "metadata": {},
   "outputs": [
    {
     "name": "stdout",
     "output_type": "stream",
     "text": [
      "[[ 1  2  3  4  5]\n",
      " [ 6  7  8  9 10]]\n",
      "[[ 1  2]\n",
      " [ 3  4]\n",
      " [ 5  6]\n",
      " [ 7  8]\n",
      " [ 9 10]]\n",
      "Transpose : \n",
      "[[ 1  6]\n",
      " [ 2  7]\n",
      " [ 3  8]\n",
      " [ 4  9]\n",
      " [ 5 10]]\n",
      "[[ 1  3  5  7  9]\n",
      " [ 2  4  6  8 10]]\n"
     ]
    }
   ],
   "source": [
    "arr=[1,2,3,4,5,6,7,8,9,10]\n",
    "arr2=np.array(arr)\n",
    "\n",
    "newarr = arr2.reshape(2, 5)\n",
    "print(newarr)\n",
    "newarr1 = arr2.reshape(5, 2)\n",
    "print(newarr1)\n",
    "\n",
    "print(\"Transpose : \")\n",
    "print(newarr.transpose())\n",
    "print(newarr1.transpose())"
   ]
  },
  {
   "cell_type": "markdown",
   "id": "d726a1aa-4321-4374-af78-03c10acf66e2",
   "metadata": {},
   "source": [
    "### Question 14"
   ]
  },
  {
   "cell_type": "code",
   "execution_count": 11,
   "id": "e0893761-b53b-42c0-806a-0065676bc999",
   "metadata": {},
   "outputs": [
    {
     "name": "stdout",
     "output_type": "stream",
     "text": [
      "[1 2 3]\n",
      "<class 'numpy.ndarray'>\n"
     ]
    }
   ],
   "source": [
    "li1 = [1,2,3]\n",
    "arr=np.array(li1)\n",
    "print(arr)\n",
    "print(type(arr))"
   ]
  },
  {
   "cell_type": "markdown",
   "id": "650dee55-8888-49d8-9b53-75705e4cd7bd",
   "metadata": {},
   "source": [
    "### Question 15"
   ]
  },
  {
   "cell_type": "code",
   "execution_count": 12,
   "id": "b8355f42-1617-49c4-80fb-1e91653410bb",
   "metadata": {},
   "outputs": [
    {
     "name": "stdout",
     "output_type": "stream",
     "text": [
      "[9 9 9]\n",
      "<class 'numpy.ndarray'>\n"
     ]
    }
   ],
   "source": [
    "li1 = [1,2,3]\n",
    "arr=np.array(li1)\n",
    "\n",
    "arr[0]=9\n",
    "arr[1]=9\n",
    "arr[2]=9\n",
    "print(arr)\n",
    "print(type(arr))"
   ]
  },
  {
   "cell_type": "markdown",
   "id": "44aaee25-d799-4212-a19e-c5ced5072dbb",
   "metadata": {
    "jp-MarkdownHeadingCollapsed": true,
    "tags": []
   },
   "source": [
    "### Question 16"
   ]
  },
  {
   "cell_type": "code",
   "execution_count": 25,
   "id": "09c3a3fe-6aad-4973-ae9e-a1384342ff29",
   "metadata": {},
   "outputs": [
    {
     "name": "stdout",
     "output_type": "stream",
     "text": [
      "11\n"
     ]
    }
   ],
   "source": [
    "arr = [2,4,5]\n",
    "print(sum(arr))"
   ]
  },
  {
   "cell_type": "markdown",
   "id": "1511850f-06e4-4410-a312-bd805516c92f",
   "metadata": {
    "jp-MarkdownHeadingCollapsed": true,
    "tags": []
   },
   "source": [
    "### Question 17\n"
   ]
  },
  {
   "cell_type": "code",
   "execution_count": 26,
   "id": "e740e2c4-6ce3-45e1-9ab7-1035c2759635",
   "metadata": {},
   "outputs": [
    {
     "name": "stdout",
     "output_type": "stream",
     "text": [
      "427350\n"
     ]
    }
   ],
   "source": [
    "arr = [77,74,75]\n",
    "prod = 1\n",
    "for i in arr:\n",
    "    prod*=i\n",
    "print(prod)"
   ]
  },
  {
   "cell_type": "markdown",
   "id": "d5db326f-eb01-47be-af2d-0aa5dacef204",
   "metadata": {
    "jp-MarkdownHeadingCollapsed": true,
    "tags": []
   },
   "source": [
    "### Question 18"
   ]
  },
  {
   "cell_type": "code",
   "execution_count": 37,
   "id": "aa322f1c-724d-4dee-9ada-84660b437719",
   "metadata": {},
   "outputs": [
    {
     "name": "stdout",
     "output_type": "stream",
     "text": [
      "Mean :  12.461538461538462\n",
      "var :  367.32544378698225\n",
      "max :  56\n",
      "min ;  1\n",
      "argmin :  1\n",
      "median :  2.0\n",
      "argmax :  12\n",
      "sd :  19.165736192147232\n"
     ]
    }
   ],
   "source": [
    "arr = np.array([2,1,9,1,2,22,1,1,4,55,6,2,56])\n",
    "# mean, variance, max, min, argmin, median, argmax and standard deviation\n",
    "print('Mean : ', arr.mean())\n",
    "print('var : ', arr.var())\n",
    "print('max : ', arr.max())\n",
    "print('min ; ', arr.min())\n",
    "print('argmin : ', arr.argmin())\n",
    "print('median : ', np.median(arr))\n",
    "print('argmax : ', arr.argmax())\n",
    "print('sd : ', np.std(arr))"
   ]
  },
  {
   "cell_type": "markdown",
   "id": "bc72f7e7-f06f-429a-89f6-a4a820526a44",
   "metadata": {
    "jp-MarkdownHeadingCollapsed": true,
    "tags": []
   },
   "source": [
    "### Question 19"
   ]
  },
  {
   "cell_type": "code",
   "execution_count": 38,
   "id": "3461b2cf-34f3-4fe4-8897-3a881aec2385",
   "metadata": {},
   "outputs": [
    {
     "name": "stdout",
     "output_type": "stream",
     "text": [
      "[1, 4, 5, 7]\n"
     ]
    }
   ],
   "source": [
    "li = [1, 1, 4, 5, 5, 5, 7]\n",
    "uniq = list(set(li))\n",
    "uniq.sort()\n",
    "print(uniq)"
   ]
  },
  {
   "cell_type": "markdown",
   "id": "9199987c-bf8b-4638-b6eb-553321d1336f",
   "metadata": {
    "jp-MarkdownHeadingCollapsed": true,
    "tags": []
   },
   "source": [
    "### Question 20"
   ]
  },
  {
   "cell_type": "code",
   "execution_count": 39,
   "id": "921d8f67-f729-4c77-8a67-fcd797287809",
   "metadata": {},
   "outputs": [
    {
     "name": "stdout",
     "output_type": "stream",
     "text": [
      "5\n"
     ]
    }
   ],
   "source": [
    "li1 = [1, 2, 3]\n",
    "li2 = [0, 1, 1]\n",
    "\n",
    "prod = 0\n",
    "\n",
    "for i in range(len(li1)):\n",
    "    temp = li1[i]*li2[i]\n",
    "    prod+=temp\n",
    "    \n",
    "print(prod)"
   ]
  },
  {
   "cell_type": "markdown",
   "id": "e0259b68-74b0-438d-a4e5-e1f7a5d88f33",
   "metadata": {
    "jp-MarkdownHeadingCollapsed": true,
    "tags": []
   },
   "source": [
    "### Question 21"
   ]
  },
  {
   "cell_type": "code",
   "execution_count": 41,
   "id": "2d689ef2-bc47-4999-a452-e35896528e58",
   "metadata": {},
   "outputs": [
    {
     "name": "stdout",
     "output_type": "stream",
     "text": [
      "eigen values :  [-2.+1.73205081j -2.-1.73205081j]\n",
      "eigen vectors :  [[0.96076892+0.j         0.96076892-0.j        ]\n",
      " [0.24019223-0.13867505j 0.24019223+0.13867505j]]\n"
     ]
    }
   ],
   "source": [
    "matA = [[1, -12], [1, -5]]\n",
    "\n",
    "eigenVal, eigenVect = np.linalg.eig(matA)\n",
    "\n",
    "print('eigen values : ', eigenVal)\n",
    "print('eigen vectors : ', eigenVect)"
   ]
  },
  {
   "cell_type": "markdown",
   "id": "567cbfcc-1267-43d8-93d1-345de0617ab4",
   "metadata": {
    "jp-MarkdownHeadingCollapsed": true,
    "tags": []
   },
   "source": [
    "### Question 22"
   ]
  },
  {
   "cell_type": "code",
   "execution_count": 58,
   "id": "f5fade52-ddf9-4606-9e0f-dc7b1add310e",
   "metadata": {},
   "outputs": [
    {
     "name": "stdout",
     "output_type": "stream",
     "text": [
      "[[1.         0.15997968]\n",
      " [0.15997968 1.        ]]\n"
     ]
    }
   ],
   "source": [
    "li1 = np.array([11, 22, 11, 31])\n",
    "li2 = np.array([25, 33, 31, 28])\n",
    "\n",
    "ret = np.corrcoef(li1,li2)\n",
    "print(ret)"
   ]
  }
 ],
 "metadata": {
  "kernelspec": {
   "display_name": "Python 3 (ipykernel)",
   "language": "python",
   "name": "python3"
  },
  "language_info": {
   "codemirror_mode": {
    "name": "ipython",
    "version": 3
   },
   "file_extension": ".py",
   "mimetype": "text/x-python",
   "name": "python",
   "nbconvert_exporter": "python",
   "pygments_lexer": "ipython3",
   "version": "3.9.12"
  }
 },
 "nbformat": 4,
 "nbformat_minor": 5
}
