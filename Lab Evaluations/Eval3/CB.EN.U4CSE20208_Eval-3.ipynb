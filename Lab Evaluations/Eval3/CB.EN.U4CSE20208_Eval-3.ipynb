{
 "cells": [
  {
   "cell_type": "markdown",
   "id": "0d219c9d-89c3-4402-b4a4-7900b2dd37e8",
   "metadata": {},
   "source": [
    "# Lab Evaluation 3 - FoDS\n",
    "- Roll No. : CB.EN.U4CSE20208\n",
    "- Name : Aravind S"
   ]
  },
  {
   "cell_type": "code",
   "execution_count": 1,
   "id": "52284a7a-6225-4839-9ee2-d9022057a193",
   "metadata": {},
   "outputs": [],
   "source": [
    "import pandas as pd\n",
    "import numpy as np \n",
    "import array\n",
    "import matplotlib\n",
    "%matplotlib inline\n",
    "import matplotlib.pyplot as plt\n",
    "plt.style.use('fivethirtyeight')"
   ]
  },
  {
   "cell_type": "markdown",
   "id": "72230d26-f0cf-469d-b5c1-2141dc523881",
   "metadata": {},
   "source": [
    "- no. of mother-baby pairs : 1174\n",
    "- Alpha : 5%\n",
    "- Objective : Whether there is any difference in the ages of the smoking and non-smoking mothers."
   ]
  },
  {
   "cell_type": "code",
   "execution_count": 2,
   "id": "63f829b6-df1a-417f-8b74-48ccdd20c6bf",
   "metadata": {},
   "outputs": [
    {
     "data": {
      "text/html": [
       "<div>\n",
       "<style scoped>\n",
       "    .dataframe tbody tr th:only-of-type {\n",
       "        vertical-align: middle;\n",
       "    }\n",
       "\n",
       "    .dataframe tbody tr th {\n",
       "        vertical-align: top;\n",
       "    }\n",
       "\n",
       "    .dataframe thead th {\n",
       "        text-align: right;\n",
       "    }\n",
       "</style>\n",
       "<table border=\"1\" class=\"dataframe\">\n",
       "  <thead>\n",
       "    <tr style=\"text-align: right;\">\n",
       "      <th></th>\n",
       "      <th>Unnamed: 0</th>\n",
       "      <th>Birth Weight</th>\n",
       "      <th>Gestational Days</th>\n",
       "      <th>Maternal Age</th>\n",
       "      <th>Maternal Height</th>\n",
       "      <th>Maternal Pregnancy Weight</th>\n",
       "      <th>Maternal Smoker</th>\n",
       "    </tr>\n",
       "  </thead>\n",
       "  <tbody>\n",
       "    <tr>\n",
       "      <th>0</th>\n",
       "      <td>0</td>\n",
       "      <td>120</td>\n",
       "      <td>284</td>\n",
       "      <td>27</td>\n",
       "      <td>62</td>\n",
       "      <td>100</td>\n",
       "      <td>False</td>\n",
       "    </tr>\n",
       "    <tr>\n",
       "      <th>1</th>\n",
       "      <td>1</td>\n",
       "      <td>113</td>\n",
       "      <td>282</td>\n",
       "      <td>33</td>\n",
       "      <td>64</td>\n",
       "      <td>135</td>\n",
       "      <td>False</td>\n",
       "    </tr>\n",
       "    <tr>\n",
       "      <th>2</th>\n",
       "      <td>2</td>\n",
       "      <td>128</td>\n",
       "      <td>279</td>\n",
       "      <td>28</td>\n",
       "      <td>64</td>\n",
       "      <td>115</td>\n",
       "      <td>True</td>\n",
       "    </tr>\n",
       "    <tr>\n",
       "      <th>3</th>\n",
       "      <td>3</td>\n",
       "      <td>108</td>\n",
       "      <td>282</td>\n",
       "      <td>23</td>\n",
       "      <td>67</td>\n",
       "      <td>125</td>\n",
       "      <td>True</td>\n",
       "    </tr>\n",
       "    <tr>\n",
       "      <th>4</th>\n",
       "      <td>4</td>\n",
       "      <td>136</td>\n",
       "      <td>286</td>\n",
       "      <td>25</td>\n",
       "      <td>62</td>\n",
       "      <td>93</td>\n",
       "      <td>False</td>\n",
       "    </tr>\n",
       "    <tr>\n",
       "      <th>...</th>\n",
       "      <td>...</td>\n",
       "      <td>...</td>\n",
       "      <td>...</td>\n",
       "      <td>...</td>\n",
       "      <td>...</td>\n",
       "      <td>...</td>\n",
       "      <td>...</td>\n",
       "    </tr>\n",
       "    <tr>\n",
       "      <th>1169</th>\n",
       "      <td>1169</td>\n",
       "      <td>113</td>\n",
       "      <td>275</td>\n",
       "      <td>27</td>\n",
       "      <td>60</td>\n",
       "      <td>100</td>\n",
       "      <td>False</td>\n",
       "    </tr>\n",
       "    <tr>\n",
       "      <th>1170</th>\n",
       "      <td>1170</td>\n",
       "      <td>128</td>\n",
       "      <td>265</td>\n",
       "      <td>24</td>\n",
       "      <td>67</td>\n",
       "      <td>120</td>\n",
       "      <td>False</td>\n",
       "    </tr>\n",
       "    <tr>\n",
       "      <th>1171</th>\n",
       "      <td>1171</td>\n",
       "      <td>130</td>\n",
       "      <td>291</td>\n",
       "      <td>30</td>\n",
       "      <td>65</td>\n",
       "      <td>150</td>\n",
       "      <td>True</td>\n",
       "    </tr>\n",
       "    <tr>\n",
       "      <th>1172</th>\n",
       "      <td>1172</td>\n",
       "      <td>125</td>\n",
       "      <td>281</td>\n",
       "      <td>21</td>\n",
       "      <td>65</td>\n",
       "      <td>110</td>\n",
       "      <td>False</td>\n",
       "    </tr>\n",
       "    <tr>\n",
       "      <th>1173</th>\n",
       "      <td>1173</td>\n",
       "      <td>117</td>\n",
       "      <td>297</td>\n",
       "      <td>38</td>\n",
       "      <td>65</td>\n",
       "      <td>129</td>\n",
       "      <td>False</td>\n",
       "    </tr>\n",
       "  </tbody>\n",
       "</table>\n",
       "<p>1174 rows × 7 columns</p>\n",
       "</div>"
      ],
      "text/plain": [
       "      Unnamed: 0  Birth Weight  Gestational Days  Maternal Age  \\\n",
       "0              0           120               284            27   \n",
       "1              1           113               282            33   \n",
       "2              2           128               279            28   \n",
       "3              3           108               282            23   \n",
       "4              4           136               286            25   \n",
       "...          ...           ...               ...           ...   \n",
       "1169        1169           113               275            27   \n",
       "1170        1170           128               265            24   \n",
       "1171        1171           130               291            30   \n",
       "1172        1172           125               281            21   \n",
       "1173        1173           117               297            38   \n",
       "\n",
       "      Maternal Height  Maternal Pregnancy Weight  Maternal Smoker  \n",
       "0                  62                        100            False  \n",
       "1                  64                        135            False  \n",
       "2                  64                        115             True  \n",
       "3                  67                        125             True  \n",
       "4                  62                         93            False  \n",
       "...               ...                        ...              ...  \n",
       "1169               60                        100            False  \n",
       "1170               67                        120            False  \n",
       "1171               65                        150             True  \n",
       "1172               65                        110            False  \n",
       "1173               65                        129            False  \n",
       "\n",
       "[1174 rows x 7 columns]"
      ]
     },
     "execution_count": 2,
     "metadata": {},
     "output_type": "execute_result"
    }
   ],
   "source": [
    "df = pd.read_csv('test.csv')\n",
    "df"
   ]
  },
  {
   "cell_type": "code",
   "execution_count": 3,
   "id": "6679aef3-7039-48c5-bae7-c83b69d38932",
   "metadata": {},
   "outputs": [
    {
     "data": {
      "text/plain": [
       "Index(['Unnamed: 0', 'Birth Weight', 'Gestational Days', 'Maternal Age',\n",
       "       'Maternal Height', 'Maternal Pregnancy Weight', 'Maternal Smoker'],\n",
       "      dtype='object')"
      ]
     },
     "execution_count": 3,
     "metadata": {},
     "output_type": "execute_result"
    }
   ],
   "source": [
    "df.columns"
   ]
  },
  {
   "cell_type": "markdown",
   "id": "83029e49-62a5-4f65-ba88-fc541e56b8be",
   "metadata": {},
   "source": [
    "## Question-1"
   ]
  },
  {
   "cell_type": "code",
   "execution_count": 5,
   "id": "3ba63a76-a1e0-43cf-9ef1-11bce90e1c58",
   "metadata": {},
   "outputs": [
    {
     "data": {
      "text/html": [
       "<div>\n",
       "<style scoped>\n",
       "    .dataframe tbody tr th:only-of-type {\n",
       "        vertical-align: middle;\n",
       "    }\n",
       "\n",
       "    .dataframe tbody tr th {\n",
       "        vertical-align: top;\n",
       "    }\n",
       "\n",
       "    .dataframe thead th {\n",
       "        text-align: right;\n",
       "    }\n",
       "</style>\n",
       "<table border=\"1\" class=\"dataframe\">\n",
       "  <thead>\n",
       "    <tr style=\"text-align: right;\">\n",
       "      <th></th>\n",
       "      <th>Maternal Age</th>\n",
       "      <th>Maternal Smoker</th>\n",
       "    </tr>\n",
       "  </thead>\n",
       "  <tbody>\n",
       "    <tr>\n",
       "      <th>0</th>\n",
       "      <td>27</td>\n",
       "      <td>False</td>\n",
       "    </tr>\n",
       "    <tr>\n",
       "      <th>1</th>\n",
       "      <td>33</td>\n",
       "      <td>False</td>\n",
       "    </tr>\n",
       "    <tr>\n",
       "      <th>2</th>\n",
       "      <td>28</td>\n",
       "      <td>True</td>\n",
       "    </tr>\n",
       "    <tr>\n",
       "      <th>3</th>\n",
       "      <td>23</td>\n",
       "      <td>True</td>\n",
       "    </tr>\n",
       "    <tr>\n",
       "      <th>4</th>\n",
       "      <td>25</td>\n",
       "      <td>False</td>\n",
       "    </tr>\n",
       "    <tr>\n",
       "      <th>...</th>\n",
       "      <td>...</td>\n",
       "      <td>...</td>\n",
       "    </tr>\n",
       "    <tr>\n",
       "      <th>1169</th>\n",
       "      <td>27</td>\n",
       "      <td>False</td>\n",
       "    </tr>\n",
       "    <tr>\n",
       "      <th>1170</th>\n",
       "      <td>24</td>\n",
       "      <td>False</td>\n",
       "    </tr>\n",
       "    <tr>\n",
       "      <th>1171</th>\n",
       "      <td>30</td>\n",
       "      <td>True</td>\n",
       "    </tr>\n",
       "    <tr>\n",
       "      <th>1172</th>\n",
       "      <td>21</td>\n",
       "      <td>False</td>\n",
       "    </tr>\n",
       "    <tr>\n",
       "      <th>1173</th>\n",
       "      <td>38</td>\n",
       "      <td>False</td>\n",
       "    </tr>\n",
       "  </tbody>\n",
       "</table>\n",
       "<p>1174 rows × 2 columns</p>\n",
       "</div>"
      ],
      "text/plain": [
       "      Maternal Age  Maternal Smoker\n",
       "0               27            False\n",
       "1               33            False\n",
       "2               28             True\n",
       "3               23             True\n",
       "4               25            False\n",
       "...            ...              ...\n",
       "1169            27            False\n",
       "1170            24            False\n",
       "1171            30             True\n",
       "1172            21            False\n",
       "1173            38            False\n",
       "\n",
       "[1174 rows x 2 columns]"
      ]
     },
     "execution_count": 5,
     "metadata": {},
     "output_type": "execute_result"
    }
   ],
   "source": [
    "df_age_smoking = df[['Maternal Age', 'Maternal Smoker']]\n",
    "df_age_smoking"
   ]
  },
  {
   "cell_type": "code",
   "execution_count": 6,
   "id": "e1b9bbdc-c261-423c-9922-2a5d554bea85",
   "metadata": {},
   "outputs": [
    {
     "data": {
      "text/plain": [
       "2       28\n",
       "3       23\n",
       "8       30\n",
       "10      32\n",
       "11      23\n",
       "        ..\n",
       "1162    28\n",
       "1163    29\n",
       "1164    21\n",
       "1165    30\n",
       "1171    30\n",
       "Name: Maternal Age, Length: 459, dtype: int64"
      ]
     },
     "execution_count": 6,
     "metadata": {},
     "output_type": "execute_result"
    }
   ],
   "source": [
    "smoker_age = df_age_smoking['Maternal Age'] [df_age_smoking['Maternal Smoker'] == True]\n",
    "smoker_age"
   ]
  },
  {
   "cell_type": "code",
   "execution_count": 7,
   "id": "68095164-cb93-41c2-b9c7-0f5cfa0dc020",
   "metadata": {},
   "outputs": [
    {
     "data": {
      "text/plain": [
       "0       27\n",
       "1       33\n",
       "4       25\n",
       "5       33\n",
       "6       23\n",
       "        ..\n",
       "1168    27\n",
       "1169    27\n",
       "1170    24\n",
       "1172    21\n",
       "1173    38\n",
       "Name: Maternal Age, Length: 715, dtype: int64"
      ]
     },
     "execution_count": 7,
     "metadata": {},
     "output_type": "execute_result"
    }
   ],
   "source": [
    "non_smoker_age = df_age_smoking['Maternal Age'] [df_age_smoking['Maternal Smoker'] == False]\n",
    "non_smoker_age"
   ]
  },
  {
   "cell_type": "code",
   "execution_count": 8,
   "id": "229e587c-4245-4af3-b0f0-22ff254663b2",
   "metadata": {},
   "outputs": [
    {
     "data": {
      "text/plain": [
       "array([<AxesSubplot:title={'center':'False'}>,\n",
       "       <AxesSubplot:title={'center':'True'}>], dtype=object)"
      ]
     },
     "execution_count": 8,
     "metadata": {},
     "output_type": "execute_result"
    },
    {
     "data": {
      "image/png": "[encoded data removed]",
      "text/plain": [
       "<Figure size 432x288 with 2 Axes>"
      ]
     },
     "metadata": {},
     "output_type": "display_data"
    }
   ],
   "source": [
    "df_age_smoking.hist(by ='Maternal Smoker')"
   ]
  },
  {
   "cell_type": "code",
   "execution_count": 13,
   "id": "b14e973f-4915-4114-8741-b7a1fc99c9df",
   "metadata": {},
   "outputs": [
    {
     "data": {
      "image/png": "[encoded data removed]",
      "text/plain": [
       "<Figure size 432x288 with 1 Axes>"
      ]
     },
     "metadata": {},
     "output_type": "display_data"
    }
   ],
   "source": [
    "import seaborn as sns\n",
    "smoker_age.hist(histtype='stepfilled', alpha=.5)\n",
    "non_smoker_age.hist(histtype='stepfilled', alpha=.5)\n",
    "plt.xlabel('Women',fontsize=15)\n",
    "plt.ylabel('Maternal Age',fontsize=15)\n",
    "# plt.legend(smoker_age='Smoker', non_smoker_age='Non Smoker') # add a legend for the plot\n",
    "plt.show()"
   ]
  },
  {
   "cell_type": "markdown",
   "id": "7c0367df-3908-49d3-92da-a5c1dd9d2464",
   "metadata": {},
   "source": [
    "##### Inference\n",
    "- Non Smokers have a higher Maternal Age as compared to Smokers"
   ]
  },
  {
   "cell_type": "markdown",
   "id": "a131c532-e50a-4f42-ad7c-ae59973fed93",
   "metadata": {},
   "source": [
    "## Question-2"
   ]
  },
  {
   "cell_type": "markdown",
   "id": "425bcead-d49b-4e77-b502-c4a576cd7dc1",
   "metadata": {},
   "source": [
    "- we can use AB testing, along with causality\n",
    "- here we can take multiple simulations to check whether it was of chance or not\n",
    "- Average age of smokers are less than average age of non smokers\n",
    "- i.e mean(smokers)< mean(smokers)"
   ]
  },
  {
   "cell_type": "markdown",
   "id": "ce7e7b1d-7f05-4e56-ad11-012af62912f6",
   "metadata": {},
   "source": [
    "## Question-3"
   ]
  },
  {
   "cell_type": "markdown",
   "id": "60007df3-add6-4ce6-afa9-eb43691ed254",
   "metadata": {},
   "source": [
    "- Null Hypothesis : average mean of age of smokers is not less than average mean of age of non smokers i.e (>=)\n",
    "- Alternate Hypothesis : average mean of age of smokers is less than average mean of age of non smokers, i.e (<)"
   ]
  },
  {
   "cell_type": "markdown",
   "id": "29a08c5e-43fa-433a-bab3-0b883dac1c66",
   "metadata": {},
   "source": [
    "## Question-4"
   ]
  },
  {
   "cell_type": "markdown",
   "id": "aa748cb6-dc83-4900-84a3-0e3936473f71",
   "metadata": {},
   "source": [
    "- we can use ab testing along with causality for doing this test\n",
    "- we can check with multiple simulations"
   ]
  },
  {
   "cell_type": "markdown",
   "id": "850cc955-ec0b-4757-9df5-d3078c41a92e",
   "metadata": {},
   "source": [
    "## Question-5"
   ]
  },
  {
   "cell_type": "code",
   "execution_count": 14,
   "id": "259693c3-79fe-45ad-97e1-06025d9599bc",
   "metadata": {},
   "outputs": [
    {
     "data": {
      "text/html": [
       "<div>\n",
       "<style scoped>\n",
       "    .dataframe tbody tr th:only-of-type {\n",
       "        vertical-align: middle;\n",
       "    }\n",
       "\n",
       "    .dataframe tbody tr th {\n",
       "        vertical-align: top;\n",
       "    }\n",
       "\n",
       "    .dataframe thead th {\n",
       "        text-align: right;\n",
       "    }\n",
       "</style>\n",
       "<table border=\"1\" class=\"dataframe\">\n",
       "  <thead>\n",
       "    <tr style=\"text-align: right;\">\n",
       "      <th></th>\n",
       "      <th>Maternal Age</th>\n",
       "    </tr>\n",
       "    <tr>\n",
       "      <th>Maternal Smoker</th>\n",
       "      <th></th>\n",
       "    </tr>\n",
       "  </thead>\n",
       "  <tbody>\n",
       "    <tr>\n",
       "      <th>False</th>\n",
       "      <td>27.544056</td>\n",
       "    </tr>\n",
       "    <tr>\n",
       "      <th>True</th>\n",
       "      <td>26.736383</td>\n",
       "    </tr>\n",
       "  </tbody>\n",
       "</table>\n",
       "</div>"
      ],
      "text/plain": [
       "                 Maternal Age\n",
       "Maternal Smoker              \n",
       "False               27.544056\n",
       "True                26.736383"
      ]
     },
     "execution_count": 14,
     "metadata": {},
     "output_type": "execute_result"
    }
   ],
   "source": [
    "mean_age_smoking = df_age_smoking.groupby('Maternal Smoker').mean()\n",
    "mean_age_smoking"
   ]
  },
  {
   "cell_type": "code",
   "execution_count": 17,
   "id": "7f62e175-2d5b-4f22-9bb3-b5f95c478357",
   "metadata": {},
   "outputs": [
    {
     "data": {
      "text/plain": [
       "-0.8076725017901509"
      ]
     },
     "execution_count": 17,
     "metadata": {},
     "output_type": "execute_result"
    }
   ],
   "source": [
    "observed_difference = mean_age_smoking['Maternal Age'][1] - mean_age_smoking['Maternal Age'][0]\n",
    "observed_difference"
   ]
  },
  {
   "cell_type": "code",
   "execution_count": 61,
   "id": "166624f6-507f-4fac-9648-acae4e73b173",
   "metadata": {},
   "outputs": [
    {
     "name": "stdout",
     "output_type": "stream",
     "text": [
      "Observed Statistic :  -0.8076725017901509\n"
     ]
    }
   ],
   "source": [
    "print('Observed Statistic : ', observed_difference)"
   ]
  },
  {
   "cell_type": "markdown",
   "id": "ab254dd1-2b6a-4f49-8aaf-852700fabdc7",
   "metadata": {},
   "source": [
    "## Question-6"
   ]
  },
  {
   "cell_type": "markdown",
   "id": "6c260c4c-64ef-4834-be43-11e3d9efc96a",
   "metadata": {},
   "source": [
    "#### One Simulation"
   ]
  },
  {
   "cell_type": "code",
   "execution_count": 18,
   "id": "aee3fcb7-dfab-41f3-b780-05d6bd1fbb58",
   "metadata": {},
   "outputs": [
    {
     "data": {
      "text/html": [
       "<div>\n",
       "<style scoped>\n",
       "    .dataframe tbody tr th:only-of-type {\n",
       "        vertical-align: middle;\n",
       "    }\n",
       "\n",
       "    .dataframe tbody tr th {\n",
       "        vertical-align: top;\n",
       "    }\n",
       "\n",
       "    .dataframe thead th {\n",
       "        text-align: right;\n",
       "    }\n",
       "</style>\n",
       "<table border=\"1\" class=\"dataframe\">\n",
       "  <thead>\n",
       "    <tr style=\"text-align: right;\">\n",
       "      <th></th>\n",
       "      <th>Maternal Age</th>\n",
       "      <th>Maternal Smoker</th>\n",
       "    </tr>\n",
       "  </thead>\n",
       "  <tbody>\n",
       "    <tr>\n",
       "      <th>0</th>\n",
       "      <td>27</td>\n",
       "      <td>False</td>\n",
       "    </tr>\n",
       "    <tr>\n",
       "      <th>1</th>\n",
       "      <td>33</td>\n",
       "      <td>False</td>\n",
       "    </tr>\n",
       "    <tr>\n",
       "      <th>2</th>\n",
       "      <td>28</td>\n",
       "      <td>True</td>\n",
       "    </tr>\n",
       "    <tr>\n",
       "      <th>3</th>\n",
       "      <td>23</td>\n",
       "      <td>True</td>\n",
       "    </tr>\n",
       "    <tr>\n",
       "      <th>4</th>\n",
       "      <td>25</td>\n",
       "      <td>False</td>\n",
       "    </tr>\n",
       "    <tr>\n",
       "      <th>...</th>\n",
       "      <td>...</td>\n",
       "      <td>...</td>\n",
       "    </tr>\n",
       "    <tr>\n",
       "      <th>1169</th>\n",
       "      <td>27</td>\n",
       "      <td>False</td>\n",
       "    </tr>\n",
       "    <tr>\n",
       "      <th>1170</th>\n",
       "      <td>24</td>\n",
       "      <td>False</td>\n",
       "    </tr>\n",
       "    <tr>\n",
       "      <th>1171</th>\n",
       "      <td>30</td>\n",
       "      <td>True</td>\n",
       "    </tr>\n",
       "    <tr>\n",
       "      <th>1172</th>\n",
       "      <td>21</td>\n",
       "      <td>False</td>\n",
       "    </tr>\n",
       "    <tr>\n",
       "      <th>1173</th>\n",
       "      <td>38</td>\n",
       "      <td>False</td>\n",
       "    </tr>\n",
       "  </tbody>\n",
       "</table>\n",
       "<p>1174 rows × 2 columns</p>\n",
       "</div>"
      ],
      "text/plain": [
       "      Maternal Age  Maternal Smoker\n",
       "0               27            False\n",
       "1               33            False\n",
       "2               28             True\n",
       "3               23             True\n",
       "4               25            False\n",
       "...            ...              ...\n",
       "1169            27            False\n",
       "1170            24            False\n",
       "1171            30             True\n",
       "1172            21            False\n",
       "1173            38            False\n",
       "\n",
       "[1174 rows x 2 columns]"
      ]
     },
     "execution_count": 18,
     "metadata": {},
     "output_type": "execute_result"
    }
   ],
   "source": [
    "df_age_smoking"
   ]
  },
  {
   "cell_type": "code",
   "execution_count": 20,
   "id": "144d1c09-4978-4cc5-9c06-0eee2592a3b5",
   "metadata": {},
   "outputs": [
    {
     "data": {
      "text/html": [
       "<div>\n",
       "<style scoped>\n",
       "    .dataframe tbody tr th:only-of-type {\n",
       "        vertical-align: middle;\n",
       "    }\n",
       "\n",
       "    .dataframe tbody tr th {\n",
       "        vertical-align: top;\n",
       "    }\n",
       "\n",
       "    .dataframe thead th {\n",
       "        text-align: right;\n",
       "    }\n",
       "</style>\n",
       "<table border=\"1\" class=\"dataframe\">\n",
       "  <thead>\n",
       "    <tr style=\"text-align: right;\">\n",
       "      <th></th>\n",
       "      <th>Maternal Age</th>\n",
       "      <th>Maternal Smoker</th>\n",
       "    </tr>\n",
       "  </thead>\n",
       "  <tbody>\n",
       "    <tr>\n",
       "      <th>881</th>\n",
       "      <td>29</td>\n",
       "      <td>True</td>\n",
       "    </tr>\n",
       "    <tr>\n",
       "      <th>567</th>\n",
       "      <td>24</td>\n",
       "      <td>False</td>\n",
       "    </tr>\n",
       "    <tr>\n",
       "      <th>1035</th>\n",
       "      <td>26</td>\n",
       "      <td>False</td>\n",
       "    </tr>\n",
       "    <tr>\n",
       "      <th>213</th>\n",
       "      <td>42</td>\n",
       "      <td>True</td>\n",
       "    </tr>\n",
       "    <tr>\n",
       "      <th>1084</th>\n",
       "      <td>26</td>\n",
       "      <td>False</td>\n",
       "    </tr>\n",
       "    <tr>\n",
       "      <th>...</th>\n",
       "      <td>...</td>\n",
       "      <td>...</td>\n",
       "    </tr>\n",
       "    <tr>\n",
       "      <th>58</th>\n",
       "      <td>22</td>\n",
       "      <td>False</td>\n",
       "    </tr>\n",
       "    <tr>\n",
       "      <th>606</th>\n",
       "      <td>40</td>\n",
       "      <td>False</td>\n",
       "    </tr>\n",
       "    <tr>\n",
       "      <th>889</th>\n",
       "      <td>43</td>\n",
       "      <td>False</td>\n",
       "    </tr>\n",
       "    <tr>\n",
       "      <th>238</th>\n",
       "      <td>28</td>\n",
       "      <td>False</td>\n",
       "    </tr>\n",
       "    <tr>\n",
       "      <th>745</th>\n",
       "      <td>26</td>\n",
       "      <td>False</td>\n",
       "    </tr>\n",
       "  </tbody>\n",
       "</table>\n",
       "<p>1174 rows × 2 columns</p>\n",
       "</div>"
      ],
      "text/plain": [
       "      Maternal Age  Maternal Smoker\n",
       "881             29             True\n",
       "567             24            False\n",
       "1035            26            False\n",
       "213             42             True\n",
       "1084            26            False\n",
       "...            ...              ...\n",
       "58              22            False\n",
       "606             40            False\n",
       "889             43            False\n",
       "238             28            False\n",
       "745             26            False\n",
       "\n",
       "[1174 rows x 2 columns]"
      ]
     },
     "execution_count": 20,
     "metadata": {},
     "output_type": "execute_result"
    }
   ],
   "source": [
    "shuffled_age_sample = df_age_smoking.sample(1174,replace = False)\n",
    "shuffled_age_sample"
   ]
  },
  {
   "cell_type": "code",
   "execution_count": 21,
   "id": "09558288-7f2f-48c8-afe5-5ee1aa04221b",
   "metadata": {},
   "outputs": [
    {
     "data": {
      "text/plain": [
       "881     29\n",
       "567     24\n",
       "1035    26\n",
       "213     42\n",
       "1084    26\n",
       "        ..\n",
       "58      22\n",
       "606     40\n",
       "889     43\n",
       "238     28\n",
       "745     26\n",
       "Name: Maternal Age, Length: 1174, dtype: int64"
      ]
     },
     "execution_count": 21,
     "metadata": {},
     "output_type": "execute_result"
    }
   ],
   "source": [
    "shuffled_age = shuffled_age_sample['Maternal Age']\n",
    "shuffled_age"
   ]
  },
  {
   "cell_type": "code",
   "execution_count": 22,
   "id": "5dada949-60ad-40b1-bf31-496dfc90a984",
   "metadata": {},
   "outputs": [
    {
     "data": {
      "text/html": [
       "<div>\n",
       "<style scoped>\n",
       "    .dataframe tbody tr th:only-of-type {\n",
       "        vertical-align: middle;\n",
       "    }\n",
       "\n",
       "    .dataframe tbody tr th {\n",
       "        vertical-align: top;\n",
       "    }\n",
       "\n",
       "    .dataframe thead th {\n",
       "        text-align: right;\n",
       "    }\n",
       "</style>\n",
       "<table border=\"1\" class=\"dataframe\">\n",
       "  <thead>\n",
       "    <tr style=\"text-align: right;\">\n",
       "      <th></th>\n",
       "      <th>Maternal Age</th>\n",
       "      <th>Maternal Smoker</th>\n",
       "      <th>shuffled_age</th>\n",
       "    </tr>\n",
       "  </thead>\n",
       "  <tbody>\n",
       "    <tr>\n",
       "      <th>0</th>\n",
       "      <td>27</td>\n",
       "      <td>False</td>\n",
       "      <td>29</td>\n",
       "    </tr>\n",
       "    <tr>\n",
       "      <th>1</th>\n",
       "      <td>33</td>\n",
       "      <td>False</td>\n",
       "      <td>24</td>\n",
       "    </tr>\n",
       "    <tr>\n",
       "      <th>2</th>\n",
       "      <td>28</td>\n",
       "      <td>True</td>\n",
       "      <td>26</td>\n",
       "    </tr>\n",
       "    <tr>\n",
       "      <th>3</th>\n",
       "      <td>23</td>\n",
       "      <td>True</td>\n",
       "      <td>42</td>\n",
       "    </tr>\n",
       "    <tr>\n",
       "      <th>4</th>\n",
       "      <td>25</td>\n",
       "      <td>False</td>\n",
       "      <td>26</td>\n",
       "    </tr>\n",
       "    <tr>\n",
       "      <th>...</th>\n",
       "      <td>...</td>\n",
       "      <td>...</td>\n",
       "      <td>...</td>\n",
       "    </tr>\n",
       "    <tr>\n",
       "      <th>1169</th>\n",
       "      <td>27</td>\n",
       "      <td>False</td>\n",
       "      <td>22</td>\n",
       "    </tr>\n",
       "    <tr>\n",
       "      <th>1170</th>\n",
       "      <td>24</td>\n",
       "      <td>False</td>\n",
       "      <td>40</td>\n",
       "    </tr>\n",
       "    <tr>\n",
       "      <th>1171</th>\n",
       "      <td>30</td>\n",
       "      <td>True</td>\n",
       "      <td>43</td>\n",
       "    </tr>\n",
       "    <tr>\n",
       "      <th>1172</th>\n",
       "      <td>21</td>\n",
       "      <td>False</td>\n",
       "      <td>28</td>\n",
       "    </tr>\n",
       "    <tr>\n",
       "      <th>1173</th>\n",
       "      <td>38</td>\n",
       "      <td>False</td>\n",
       "      <td>26</td>\n",
       "    </tr>\n",
       "  </tbody>\n",
       "</table>\n",
       "<p>1174 rows × 3 columns</p>\n",
       "</div>"
      ],
      "text/plain": [
       "      Maternal Age  Maternal Smoker  shuffled_age\n",
       "0               27            False            29\n",
       "1               33            False            24\n",
       "2               28             True            26\n",
       "3               23             True            42\n",
       "4               25            False            26\n",
       "...            ...              ...           ...\n",
       "1169            27            False            22\n",
       "1170            24            False            40\n",
       "1171            30             True            43\n",
       "1172            21            False            28\n",
       "1173            38            False            26\n",
       "\n",
       "[1174 rows x 3 columns]"
      ]
     },
     "execution_count": 22,
     "metadata": {},
     "output_type": "execute_result"
    }
   ],
   "source": [
    "original_and_shuffled_age= df_age_smoking.assign(shuffled_age=shuffled_age.values )\n",
    "original_and_shuffled_age"
   ]
  },
  {
   "cell_type": "code",
   "execution_count": 23,
   "id": "bae1d866-c32d-47d3-839d-f62f6efd78d8",
   "metadata": {},
   "outputs": [
    {
     "data": {
      "text/html": [
       "<div>\n",
       "<style scoped>\n",
       "    .dataframe tbody tr th:only-of-type {\n",
       "        vertical-align: middle;\n",
       "    }\n",
       "\n",
       "    .dataframe tbody tr th {\n",
       "        vertical-align: top;\n",
       "    }\n",
       "\n",
       "    .dataframe thead th {\n",
       "        text-align: right;\n",
       "    }\n",
       "</style>\n",
       "<table border=\"1\" class=\"dataframe\">\n",
       "  <thead>\n",
       "    <tr style=\"text-align: right;\">\n",
       "      <th></th>\n",
       "      <th>Maternal Age</th>\n",
       "      <th>shuffled_age</th>\n",
       "    </tr>\n",
       "    <tr>\n",
       "      <th>Maternal Smoker</th>\n",
       "      <th></th>\n",
       "      <th></th>\n",
       "    </tr>\n",
       "  </thead>\n",
       "  <tbody>\n",
       "    <tr>\n",
       "      <th>False</th>\n",
       "      <td>27.544056</td>\n",
       "      <td>27.257343</td>\n",
       "    </tr>\n",
       "    <tr>\n",
       "      <th>True</th>\n",
       "      <td>26.736383</td>\n",
       "      <td>27.183007</td>\n",
       "    </tr>\n",
       "  </tbody>\n",
       "</table>\n",
       "</div>"
      ],
      "text/plain": [
       "                 Maternal Age  shuffled_age\n",
       "Maternal Smoker                            \n",
       "False               27.544056     27.257343\n",
       "True                26.736383     27.183007"
      ]
     },
     "execution_count": 23,
     "metadata": {},
     "output_type": "execute_result"
    }
   ],
   "source": [
    "means_all_group= original_and_shuffled_age.groupby('Maternal Smoker').mean()\n",
    "means_all_group"
   ]
  },
  {
   "cell_type": "markdown",
   "id": "1b52c294-fc02-47b6-8ac8-ada87250422d",
   "metadata": {},
   "source": [
    "### Multiple Simulations"
   ]
  },
  {
   "cell_type": "code",
   "execution_count": 25,
   "id": "70c20958-ee34-43e2-97cd-48b8e3037f6a",
   "metadata": {},
   "outputs": [],
   "source": [
    "no_of_simulations = 5000"
   ]
  },
  {
   "cell_type": "code",
   "execution_count": 24,
   "id": "994e966e-6ab5-468b-b81e-13d23370db49",
   "metadata": {},
   "outputs": [
    {
     "data": {
      "text/plain": [
       "array([0., 0., 0., ..., 0., 0., 0.])"
      ]
     },
     "execution_count": 24,
     "metadata": {},
     "output_type": "execute_result"
    }
   ],
   "source": [
    "dist = np.zeros(no_of_simulations)\n",
    "dist"
   ]
  },
  {
   "cell_type": "code",
   "execution_count": 29,
   "id": "a540aa37-fe8c-444d-9161-82a13f4d827b",
   "metadata": {},
   "outputs": [
    {
     "data": {
      "text/plain": [
       "2348"
      ]
     },
     "execution_count": 29,
     "metadata": {},
     "output_type": "execute_result"
    }
   ],
   "source": [
    "sz = df_age_smoking.size\n",
    "sz"
   ]
  },
  {
   "cell_type": "code",
   "execution_count": 43,
   "id": "a67ff2ef-28a1-487b-9168-ed4d407a779e",
   "metadata": {},
   "outputs": [
    {
     "data": {
      "text/plain": [
       "array([ 0.47498819, -0.39786096, -0.3084297 , ...,  0.07075887,\n",
       "        0.12799488,  0.04214087])"
      ]
     },
     "execution_count": 43,
     "metadata": {},
     "output_type": "execute_result"
    }
   ],
   "source": [
    "for i in np.arange(no_of_simulations):\n",
    "    shuffled_age_sample = df_age_smoking.sample(1174,replace = False)\n",
    "    shuffled_age = shuffled_age_sample['Maternal Age']\n",
    "    original_and_shuffled_age= df_age_smoking.assign(shuffled_age=shuffled_age.values )\n",
    "    means_all_group= original_and_shuffled_age.groupby('Maternal Smoker').mean()\n",
    "    \n",
    "    dist1 = means_all_group['shuffled_age'][0] - means_all_group['shuffled_age'][1]\n",
    "    dist[i] = dist1 \n",
    "\n",
    "dist"
   ]
  },
  {
   "cell_type": "markdown",
   "id": "147f07fe-8f37-47c0-8052-4b57aa9cd3c5",
   "metadata": {},
   "source": [
    "### Question-7 (Histogram)"
   ]
  },
  {
   "cell_type": "code",
   "execution_count": 44,
   "id": "76590089-868e-4b21-81bd-e988546b681c",
   "metadata": {},
   "outputs": [
    {
     "data": {
      "text/html": [
       "<div>\n",
       "<style scoped>\n",
       "    .dataframe tbody tr th:only-of-type {\n",
       "        vertical-align: middle;\n",
       "    }\n",
       "\n",
       "    .dataframe tbody tr th {\n",
       "        vertical-align: top;\n",
       "    }\n",
       "\n",
       "    .dataframe thead th {\n",
       "        text-align: right;\n",
       "    }\n",
       "</style>\n",
       "<table border=\"1\" class=\"dataframe\">\n",
       "  <thead>\n",
       "    <tr style=\"text-align: right;\">\n",
       "      <th></th>\n",
       "      <th>differences</th>\n",
       "    </tr>\n",
       "  </thead>\n",
       "  <tbody>\n",
       "    <tr>\n",
       "      <th>0</th>\n",
       "      <td>0.474988</td>\n",
       "    </tr>\n",
       "    <tr>\n",
       "      <th>1</th>\n",
       "      <td>-0.397861</td>\n",
       "    </tr>\n",
       "    <tr>\n",
       "      <th>2</th>\n",
       "      <td>-0.308430</td>\n",
       "    </tr>\n",
       "    <tr>\n",
       "      <th>3</th>\n",
       "      <td>-0.040136</td>\n",
       "    </tr>\n",
       "    <tr>\n",
       "      <th>4</th>\n",
       "      <td>-0.172494</td>\n",
       "    </tr>\n",
       "    <tr>\n",
       "      <th>...</th>\n",
       "      <td>...</td>\n",
       "    </tr>\n",
       "    <tr>\n",
       "      <th>4995</th>\n",
       "      <td>0.317589</td>\n",
       "    </tr>\n",
       "    <tr>\n",
       "      <th>4996</th>\n",
       "      <td>-0.054445</td>\n",
       "    </tr>\n",
       "    <tr>\n",
       "      <th>4997</th>\n",
       "      <td>0.070759</td>\n",
       "    </tr>\n",
       "    <tr>\n",
       "      <th>4998</th>\n",
       "      <td>0.127995</td>\n",
       "    </tr>\n",
       "    <tr>\n",
       "      <th>4999</th>\n",
       "      <td>0.042141</td>\n",
       "    </tr>\n",
       "  </tbody>\n",
       "</table>\n",
       "<p>5000 rows × 1 columns</p>\n",
       "</div>"
      ],
      "text/plain": [
       "      differences\n",
       "0        0.474988\n",
       "1       -0.397861\n",
       "2       -0.308430\n",
       "3       -0.040136\n",
       "4       -0.172494\n",
       "...           ...\n",
       "4995     0.317589\n",
       "4996    -0.054445\n",
       "4997     0.070759\n",
       "4998     0.127995\n",
       "4999     0.042141\n",
       "\n",
       "[5000 rows x 1 columns]"
      ]
     },
     "execution_count": 44,
     "metadata": {},
     "output_type": "execute_result"
    }
   ],
   "source": [
    "dist_df = pd.DataFrame(dist, columns = ['differences'])\n",
    "dist_df"
   ]
  },
  {
   "cell_type": "code",
   "execution_count": 45,
   "id": "15e2aafc-63f0-470c-a234-5f442ac559ab",
   "metadata": {},
   "outputs": [
    {
     "name": "stdout",
     "output_type": "stream",
     "text": [
      "Observed Difference: -0.8076725017901509\n"
     ]
    },
    {
     "data": {
      "image/png": "[encoded data removed]",
      "text/plain": [
       "<Figure size 432x288 with 1 Axes>"
      ]
     },
     "metadata": {},
     "output_type": "display_data"
    }
   ],
   "source": [
    "dist_df.hist(bins = 10)\n",
    "plt.title('Prediction Under Null Hypotheses');\n",
    "plt.xlabel('Distance Under Null Hypothesis',fontsize=15)\n",
    "plt.ylabel('Units',fontsize=15);\n",
    "\n",
    "plt.scatter(observed_difference, 0, color='red', s=30)\n",
    "\n",
    "print('Observed Difference:', observed_difference)"
   ]
  },
  {
   "cell_type": "markdown",
   "id": "af8cfd8d-10ff-487d-9b1b-e9c8369d93f6",
   "metadata": {},
   "source": [
    "#### Inference\n",
    "- From this we can observe that, the observed value of -0.80 is on the least significat tail of the histogram\n",
    "- also the differences are normally distributed"
   ]
  },
  {
   "cell_type": "markdown",
   "id": "34848b01-fb85-4eb5-8ecc-ed55c2429e97",
   "metadata": {},
   "source": [
    "## Question-8 (Emperical p-value)"
   ]
  },
  {
   "cell_type": "code",
   "execution_count": 46,
   "id": "7ee607ee-39b5-47fe-a0ae-27e67383264e",
   "metadata": {},
   "outputs": [
    {
     "data": {
      "text/plain": [
       "array([ 0.47498819, -0.39786096, -0.3084297 , ...,  0.07075887,\n",
       "        0.12799488,  0.04214087])"
      ]
     },
     "execution_count": 46,
     "metadata": {},
     "output_type": "execute_result"
    }
   ],
   "source": [
    "dist"
   ]
  },
  {
   "cell_type": "code",
   "execution_count": 47,
   "id": "41eb1d72-e2a1-4825-b53a-567b62df92b8",
   "metadata": {},
   "outputs": [
    {
     "data": {
      "text/plain": [
       "-0.8076725017901509"
      ]
     },
     "execution_count": 47,
     "metadata": {},
     "output_type": "execute_result"
    }
   ],
   "source": [
    "observed_difference"
   ]
  },
  {
   "cell_type": "code",
   "execution_count": 56,
   "id": "b83117ed-223c-4a6d-bb28-ed2747b318cd",
   "metadata": {},
   "outputs": [
    {
     "data": {
      "text/plain": [
       "array([False, False, False, ..., False, False, False])"
      ]
     },
     "execution_count": 56,
     "metadata": {},
     "output_type": "execute_result"
    }
   ],
   "source": [
    "arrCond = dist <= observed_difference\n",
    "arrCond"
   ]
  },
  {
   "cell_type": "code",
   "execution_count": 57,
   "id": "46d95716-7f8c-48c9-969f-3ab0125ea704",
   "metadata": {},
   "outputs": [
    {
     "data": {
      "text/html": [
       "<div>\n",
       "<style scoped>\n",
       "    .dataframe tbody tr th:only-of-type {\n",
       "        vertical-align: middle;\n",
       "    }\n",
       "\n",
       "    .dataframe tbody tr th {\n",
       "        vertical-align: top;\n",
       "    }\n",
       "\n",
       "    .dataframe thead th {\n",
       "        text-align: right;\n",
       "    }\n",
       "</style>\n",
       "<table border=\"1\" class=\"dataframe\">\n",
       "  <thead>\n",
       "    <tr style=\"text-align: right;\">\n",
       "      <th></th>\n",
       "      <th>differences</th>\n",
       "    </tr>\n",
       "  </thead>\n",
       "  <tbody>\n",
       "    <tr>\n",
       "      <th>0</th>\n",
       "      <td>False</td>\n",
       "    </tr>\n",
       "    <tr>\n",
       "      <th>1</th>\n",
       "      <td>False</td>\n",
       "    </tr>\n",
       "    <tr>\n",
       "      <th>2</th>\n",
       "      <td>False</td>\n",
       "    </tr>\n",
       "    <tr>\n",
       "      <th>3</th>\n",
       "      <td>False</td>\n",
       "    </tr>\n",
       "    <tr>\n",
       "      <th>4</th>\n",
       "      <td>False</td>\n",
       "    </tr>\n",
       "    <tr>\n",
       "      <th>...</th>\n",
       "      <td>...</td>\n",
       "    </tr>\n",
       "    <tr>\n",
       "      <th>4995</th>\n",
       "      <td>False</td>\n",
       "    </tr>\n",
       "    <tr>\n",
       "      <th>4996</th>\n",
       "      <td>False</td>\n",
       "    </tr>\n",
       "    <tr>\n",
       "      <th>4997</th>\n",
       "      <td>False</td>\n",
       "    </tr>\n",
       "    <tr>\n",
       "      <th>4998</th>\n",
       "      <td>False</td>\n",
       "    </tr>\n",
       "    <tr>\n",
       "      <th>4999</th>\n",
       "      <td>False</td>\n",
       "    </tr>\n",
       "  </tbody>\n",
       "</table>\n",
       "<p>5000 rows × 1 columns</p>\n",
       "</div>"
      ],
      "text/plain": [
       "      differences\n",
       "0           False\n",
       "1           False\n",
       "2           False\n",
       "3           False\n",
       "4           False\n",
       "...           ...\n",
       "4995        False\n",
       "4996        False\n",
       "4997        False\n",
       "4998        False\n",
       "4999        False\n",
       "\n",
       "[5000 rows x 1 columns]"
      ]
     },
     "execution_count": 57,
     "metadata": {},
     "output_type": "execute_result"
    }
   ],
   "source": [
    "arrCond_df = pd.DataFrame(arrCond, columns = ['differences'])\n",
    "arrCond_df"
   ]
  },
  {
   "cell_type": "code",
   "execution_count": 58,
   "id": "e5b45399-3044-49b7-a648-64537f591b19",
   "metadata": {},
   "outputs": [
    {
     "data": {
      "text/plain": [
       "differences\n",
       "False    4933\n",
       "True       67\n",
       "dtype: int64"
      ]
     },
     "execution_count": 58,
     "metadata": {},
     "output_type": "execute_result"
    }
   ],
   "source": [
    "arrCond_table = arrCond_df.groupby('differences').size()\n",
    "arrCond_table"
   ]
  },
  {
   "cell_type": "code",
   "execution_count": 59,
   "id": "224f878b-7ebb-4d09-877a-15e5ab355589",
   "metadata": {},
   "outputs": [
    {
     "data": {
      "text/plain": [
       "0.0134"
      ]
     },
     "execution_count": 59,
     "metadata": {},
     "output_type": "execute_result"
    }
   ],
   "source": [
    "empirical_P = np.count_nonzero(arrCond)/dist_df.size\n",
    "empirical_P"
   ]
  },
  {
   "cell_type": "markdown",
   "id": "9a4e537f-4508-47f8-b142-985bb1239d4f",
   "metadata": {},
   "source": [
    "## Question-9"
   ]
  },
  {
   "cell_type": "code",
   "execution_count": 60,
   "id": "7f95f602-dbdd-4afd-9a5e-632d344e37aa",
   "metadata": {},
   "outputs": [
    {
     "name": "stdout",
     "output_type": "stream",
     "text": [
      "Observed Distance -0.8076725017901509\n",
      "Empirical P-value: 1.0 %\n"
     ]
    }
   ],
   "source": [
    "print('Observed Distance', observed_difference)\n",
    "print('Empirical P-value:', round(empirical_P, 2) *100, '%')"
   ]
  },
  {
   "cell_type": "markdown",
   "id": "de680631-df1f-4335-9f35-519bcc91c001",
   "metadata": {},
   "source": [
    "- p value is less than 5%, that is the given alpha value, therefore the test satisfies the alternate hypothesis.\n",
    "- Since the observed p value which is -0.80 and the observed difference in the histogram under null hypothesis is in the tail.\n",
    "- the test favour alternative hypothesis more than null\n",
    "- i.e the average age of smokers is less than average age of non-smoker"
   ]
  },
  {
   "cell_type": "code",
   "execution_count": 62,
   "id": "f1ada3be-b80a-4d38-8cd9-db1bd30be9b5",
   "metadata": {},
   "outputs": [],
   "source": [
    "#end"
   ]
  }
 ],
 "metadata": {
  "kernelspec": {
   "display_name": "Python 3 (ipykernel)",
   "language": "python",
   "name": "python3"
  },
  "language_info": {
   "codemirror_mode": {
    "name": "ipython",
    "version": 3
   },
   "file_extension": ".py",
   "mimetype": "text/x-python",
   "name": "python",
   "nbconvert_exporter": "python",
   "pygments_lexer": "ipython3",
   "version": "3.9.12"
  }
 },
 "nbformat": 4,
 "nbformat_minor": 5
}
