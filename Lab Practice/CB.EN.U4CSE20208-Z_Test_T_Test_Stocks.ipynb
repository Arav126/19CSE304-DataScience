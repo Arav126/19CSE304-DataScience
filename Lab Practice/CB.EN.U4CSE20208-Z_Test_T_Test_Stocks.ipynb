{
  "cells": [
    {
      "attachments": {},
      "cell_type": "markdown",
      "metadata": {},
      "source": [
        "- Roll No. : CB.EN.U4CSE20208\n",
        "- Name : Aravind S"
      ]
    },
    {
      "cell_type": "code",
      "execution_count": 22,
      "metadata": {
        "id": "YYC19Ig1MPxz"
      },
      "outputs": [],
      "source": [
        "import pandas as pd\n",
        "import numpy as np\n",
        "import matplotlib.pyplot as plt\n",
        "import seaborn as sns\n",
        "import scipy.stats as st"
      ]
    },
    {
      "cell_type": "code",
      "execution_count": 2,
      "metadata": {
        "colab": {
          "base_uri": "https://localhost:8080/"
        },
        "id": "r234B4K6MxcC",
        "outputId": "085f8324-27c5-4379-cf2b-daa0738f231e"
      },
      "outputs": [
        {
          "name": "stdout",
          "output_type": "stream",
          "text": [
            "Mounted at /content/drive\n"
          ]
        }
      ],
      "source": [
        "from google.colab import drive\n",
        "drive.mount('/content/drive')"
      ]
    },
    {
      "cell_type": "code",
      "execution_count": 4,
      "metadata": {
        "id": "MxiuB3QKM8hk"
      },
      "outputs": [],
      "source": [
        "df = pd.read_csv('/content/drive/MyDrive/nifty_500.csv')"
      ]
    },
    {
      "cell_type": "code",
      "execution_count": null,
      "metadata": {
        "id": "4qHEWaEJNUfF"
      },
      "outputs": [],
      "source": []
    },
    {
      "cell_type": "markdown",
      "metadata": {
        "id": "2f3pBoRZNVEO"
      },
      "source": [
        "Dataset Glossary (Column-Wise)\n",
        "Company Name: Name of the Company.\n",
        "\n",
        "Symbol: A stock symbol is a unique series of letters assigned to a security for trading purposes.\n",
        "\n",
        "Industry: Name of the industry to which the stock belongs.\n",
        "\n",
        "Series: EQ stands for Equity. In this series intraday trading is possible in addition to delivery and BE stands for Book Entry. Shares falling in the Trade-to-Trade or T-segment are traded in this series and no intraday is allowed. This means trades can only be settled by accepting or giving the delivery of shares.\n",
        "\n",
        "Open: It is the price at which the financial security opens in the market when trading begins. It may or may not be different from the previous day's closing price. The security may open at a higher price than the closing price due to excess demand for the security.\n",
        "\n",
        "High: It is the highest price at which a stock is traded during the course of the trading day and is typically higher than the closing or equal to the opening price.\n",
        "\n",
        "Low: Today's low is a security's intraday low trading price. Today's low is the lowest price at which a stock trades over the course of a trading day.\n",
        "\n",
        "Previous Close: The previous close almost always refers to the prior day's final price of a security when the market officially closes for the day. It can apply to a stock, bond, commodity, futures or option co-contract, market index, or any other security.\n",
        "\n",
        "Last Traded Price: The last traded price (LTP) usually differs from the closing price of the day. This is because the closing price of the day on NSE is the weighted average price of the last 30 mins of trading. The last traded price of the day is the actual last traded price.\n",
        "\n",
        "Change: For a stock or bond quote, change is the difference between the current price and the last trade of the previous day. For interest rates, change is benchmarked against a major market rate (e.g., LIBOR) and may only be updated as infrequently as once a quarter.\n",
        "\n",
        "Percentage Change: Take the selling price and subtract the initial purchase price. The result is the gain or loss. Take the gain or loss from the investment and divide it by the original amount or purchase price of the investment. Finally, multiply the result by 100 to arrive at the percentage change in the investment.\n",
        "\n",
        "Share Volume: Volume is an indicator that means the total number of shares that have been bought or sold in a specific period of time or during the trading day. It will also involve the buying and selling of every share during a specific time period.\n",
        "\n",
        "Value (Indian Rupee): Market value—also known as market cap—is calculated by multiplying a company's outstanding shares by its current market price.\n",
        "\n",
        "52-Week High: A 52-week high is the highest share price that a stock has traded at during a passing year. Many market aficionados view the 52-week high as an important factor in determining a stock's current value and predicting future price movement. 52-week High prices are adjusted for Bonus, Split & Rights Corporate actions.\n",
        "\n",
        "52-Week Low: A 52-week low is the lowest share price that a stock has traded at during a passing year. Many market aficionados view the 52-week low as an important factor in determining a stock's current value and predicting future price movement. 52-week low prices are adjusted for Bonus, Split & Rights Corporate actions.\n",
        "\n",
        "365 Day Percentage Change: Percent change is calculated with respect to adjusted price on ex-date for Corporate Actions like Dividend, Bonus, Rights & Face Value Split and also adjusted for Past Dividend, Bonus, Rights & Face Value Split and also adjusted for Past 365 days.\n",
        "\n",
        "30 Day Percentage Change: Percent change is calculated with respect to adjusted price on ex-date for Corporate Actions like Dividend, Bonus, Rights & Face Value Split and also adjusted for Past 30 days."
      ]
    },
    {
      "cell_type": "code",
      "execution_count": 5,
      "metadata": {
        "colab": {
          "base_uri": "https://localhost:8080/",
          "height": 337
        },
        "id": "-1GDntTdNI5_",
        "outputId": "057ca80e-df3a-45cb-8dda-3dad764f1a47"
      },
      "outputs": [
        {
          "data": {
            "text/html": [
              "\n",
              "  <div id=\"df-c77c766d-529a-43f7-b92b-db84ce1aed52\">\n",
              "    <div class=\"colab-df-container\">\n",
              "      <div>\n",
              "<style scoped>\n",
              "    .dataframe tbody tr th:only-of-type {\n",
              "        vertical-align: middle;\n",
              "    }\n",
              "\n",
              "    .dataframe tbody tr th {\n",
              "        vertical-align: top;\n",
              "    }\n",
              "\n",
              "    .dataframe thead th {\n",
              "        text-align: right;\n",
              "    }\n",
              "</style>\n",
              "<table border=\"1\" class=\"dataframe\">\n",
              "  <thead>\n",
              "    <tr style=\"text-align: right;\">\n",
              "      <th></th>\n",
              "      <th>Company Name</th>\n",
              "      <th>Symbol</th>\n",
              "      <th>Industry</th>\n",
              "      <th>Series</th>\n",
              "      <th>Open</th>\n",
              "      <th>High</th>\n",
              "      <th>Low</th>\n",
              "      <th>Previous Close</th>\n",
              "      <th>Last Traded Price</th>\n",
              "      <th>Change</th>\n",
              "      <th>Percentage Change</th>\n",
              "      <th>Share Volume</th>\n",
              "      <th>Value (Indian Rupee)</th>\n",
              "      <th>52 Week High</th>\n",
              "      <th>52 Week Low</th>\n",
              "      <th>365 Day Percentage Change</th>\n",
              "      <th>30 Day Percentage Change</th>\n",
              "    </tr>\n",
              "  </thead>\n",
              "  <tbody>\n",
              "    <tr>\n",
              "      <th>195</th>\n",
              "      <td>Hikal Ltd.</td>\n",
              "      <td>HIKAL</td>\n",
              "      <td>Healthcare</td>\n",
              "      <td>EQ</td>\n",
              "      <td>239.85</td>\n",
              "      <td>243.6</td>\n",
              "      <td>234.15</td>\n",
              "      <td>239.0</td>\n",
              "      <td>238.95</td>\n",
              "      <td>-0.05</td>\n",
              "      <td>-0.02</td>\n",
              "      <td>386423</td>\n",
              "      <td>9.226236e+07</td>\n",
              "      <td>742.0</td>\n",
              "      <td>212.00</td>\n",
              "      <td>-51.31</td>\n",
              "      <td>-27.67</td>\n",
              "    </tr>\n",
              "    <tr>\n",
              "      <th>303</th>\n",
              "      <td>Mahanagar Gas Ltd.</td>\n",
              "      <td>MGL</td>\n",
              "      <td>Oil Gas &amp; Consumable Fuels</td>\n",
              "      <td>EQ</td>\n",
              "      <td>760.55</td>\n",
              "      <td>771.0</td>\n",
              "      <td>757.05</td>\n",
              "      <td>760.6</td>\n",
              "      <td>770.70</td>\n",
              "      <td>10.10</td>\n",
              "      <td>1.33</td>\n",
              "      <td>170132</td>\n",
              "      <td>1.302616e+08</td>\n",
              "      <td>1212.0</td>\n",
              "      <td>665.80</td>\n",
              "      <td>-33.08</td>\n",
              "      <td>0.56</td>\n",
              "    </tr>\n",
              "    <tr>\n",
              "      <th>41</th>\n",
              "      <td>Aurobindo Pharma Ltd.</td>\n",
              "      <td>AUROPHARMA</td>\n",
              "      <td>Healthcare</td>\n",
              "      <td>EQ</td>\n",
              "      <td>512.25</td>\n",
              "      <td>524.0</td>\n",
              "      <td>506.50</td>\n",
              "      <td>513.1</td>\n",
              "      <td>522.75</td>\n",
              "      <td>9.65</td>\n",
              "      <td>1.88</td>\n",
              "      <td>831959</td>\n",
              "      <td>4.290329e+08</td>\n",
              "      <td>1013.0</td>\n",
              "      <td>503.45</td>\n",
              "      <td>-46.84</td>\n",
              "      <td>-3.33</td>\n",
              "    </tr>\n",
              "    <tr>\n",
              "      <th>22</th>\n",
              "      <td>Amara Raja Batteries Ltd.</td>\n",
              "      <td>AMARAJABAT</td>\n",
              "      <td>Automobile and Auto Components</td>\n",
              "      <td>EQ</td>\n",
              "      <td>459.10</td>\n",
              "      <td>471.7</td>\n",
              "      <td>456.05</td>\n",
              "      <td>458.7</td>\n",
              "      <td>469.50</td>\n",
              "      <td>10.80</td>\n",
              "      <td>2.35</td>\n",
              "      <td>438273</td>\n",
              "      <td>2.027276e+08</td>\n",
              "      <td>781.6</td>\n",
              "      <td>438.05</td>\n",
              "      <td>-38.43</td>\n",
              "      <td>-8.69</td>\n",
              "    </tr>\n",
              "    <tr>\n",
              "      <th>484</th>\n",
              "      <td>V.I.P. Industries Ltd.</td>\n",
              "      <td>VIPIND</td>\n",
              "      <td>Consumer Durables</td>\n",
              "      <td>EQ</td>\n",
              "      <td>626.50</td>\n",
              "      <td>631.8</td>\n",
              "      <td>606.40</td>\n",
              "      <td>626.5</td>\n",
              "      <td>618.90</td>\n",
              "      <td>-7.60</td>\n",
              "      <td>-1.21</td>\n",
              "      <td>125113</td>\n",
              "      <td>7.747372e+07</td>\n",
              "      <td>774.6</td>\n",
              "      <td>374.00</td>\n",
              "      <td>56.41</td>\n",
              "      <td>8.04</td>\n",
              "    </tr>\n",
              "  </tbody>\n",
              "</table>\n",
              "</div>\n",
              "      <button class=\"colab-df-convert\" onclick=\"convertToInteractive('df-c77c766d-529a-43f7-b92b-db84ce1aed52')\"\n",
              "              title=\"Convert this dataframe to an interactive table.\"\n",
              "              style=\"display:none;\">\n",
              "        \n",
              "  <svg xmlns=\"http://www.w3.org/2000/svg\" height=\"24px\"viewBox=\"0 0 24 24\"\n",
              "       width=\"24px\">\n",
              "    <path d=\"M0 0h24v24H0V0z\" fill=\"none\"/>\n",
              "    <path d=\"M18.56 5.44l.94 2.06.94-2.06 2.06-.94-2.06-.94-.94-2.06-.94 2.06-2.06.94zm-11 1L8.5 8.5l.94-2.06 2.06-.94-2.06-.94L8.5 2.5l-.94 2.06-2.06.94zm10 10l.94 2.06.94-2.06 2.06-.94-2.06-.94-.94-2.06-.94 2.06-2.06.94z\"/><path d=\"M17.41 7.96l-1.37-1.37c-.4-.4-.92-.59-1.43-.59-.52 0-1.04.2-1.43.59L10.3 9.45l-7.72 7.72c-.78.78-.78 2.05 0 2.83L4 21.41c.39.39.9.59 1.41.59.51 0 1.02-.2 1.41-.59l7.78-7.78 2.81-2.81c.8-.78.8-2.07 0-2.86zM5.41 20L4 18.59l7.72-7.72 1.47 1.35L5.41 20z\"/>\n",
              "  </svg>\n",
              "      </button>\n",
              "      \n",
              "  <style>\n",
              "    .colab-df-container {\n",
              "      display:flex;\n",
              "      flex-wrap:wrap;\n",
              "      gap: 12px;\n",
              "    }\n",
              "\n",
              "    .colab-df-convert {\n",
              "      background-color: #E8F0FE;\n",
              "      border: none;\n",
              "      border-radius: 50%;\n",
              "      cursor: pointer;\n",
              "      display: none;\n",
              "      fill: #1967D2;\n",
              "      height: 32px;\n",
              "      padding: 0 0 0 0;\n",
              "      width: 32px;\n",
              "    }\n",
              "\n",
              "    .colab-df-convert:hover {\n",
              "      background-color: #E2EBFA;\n",
              "      box-shadow: 0px 1px 2px rgba(60, 64, 67, 0.3), 0px 1px 3px 1px rgba(60, 64, 67, 0.15);\n",
              "      fill: #174EA6;\n",
              "    }\n",
              "\n",
              "    [theme=dark] .colab-df-convert {\n",
              "      background-color: #3B4455;\n",
              "      fill: #D2E3FC;\n",
              "    }\n",
              "\n",
              "    [theme=dark] .colab-df-convert:hover {\n",
              "      background-color: #434B5C;\n",
              "      box-shadow: 0px 1px 3px 1px rgba(0, 0, 0, 0.15);\n",
              "      filter: drop-shadow(0px 1px 2px rgba(0, 0, 0, 0.3));\n",
              "      fill: #FFFFFF;\n",
              "    }\n",
              "  </style>\n",
              "\n",
              "      <script>\n",
              "        const buttonEl =\n",
              "          document.querySelector('#df-c77c766d-529a-43f7-b92b-db84ce1aed52 button.colab-df-convert');\n",
              "        buttonEl.style.display =\n",
              "          google.colab.kernel.accessAllowed ? 'block' : 'none';\n",
              "\n",
              "        async function convertToInteractive(key) {\n",
              "          const element = document.querySelector('#df-c77c766d-529a-43f7-b92b-db84ce1aed52');\n",
              "          const dataTable =\n",
              "            await google.colab.kernel.invokeFunction('convertToInteractive',\n",
              "                                                     [key], {});\n",
              "          if (!dataTable) return;\n",
              "\n",
              "          const docLinkHtml = 'Like what you see? Visit the ' +\n",
              "            '<a target=\"_blank\" href=https://colab.research.google.com/notebooks/data_table.ipynb>data table notebook</a>'\n",
              "            + ' to learn more about interactive tables.';\n",
              "          element.innerHTML = '';\n",
              "          dataTable['output_type'] = 'display_data';\n",
              "          await google.colab.output.renderOutput(dataTable, element);\n",
              "          const docLink = document.createElement('div');\n",
              "          docLink.innerHTML = docLinkHtml;\n",
              "          element.appendChild(docLink);\n",
              "        }\n",
              "      </script>\n",
              "    </div>\n",
              "  </div>\n",
              "  "
            ],
            "text/plain": [
              "                  Company Name      Symbol                        Industry  \\\n",
              "195                 Hikal Ltd.       HIKAL                      Healthcare   \n",
              "303         Mahanagar Gas Ltd.         MGL      Oil Gas & Consumable Fuels   \n",
              "41       Aurobindo Pharma Ltd.  AUROPHARMA                      Healthcare   \n",
              "22   Amara Raja Batteries Ltd.  AMARAJABAT  Automobile and Auto Components   \n",
              "484     V.I.P. Industries Ltd.      VIPIND               Consumer Durables   \n",
              "\n",
              "    Series    Open   High     Low  Previous Close  Last Traded Price Change  \\\n",
              "195     EQ  239.85  243.6  234.15           239.0             238.95  -0.05   \n",
              "303     EQ  760.55  771.0  757.05           760.6             770.70  10.10   \n",
              "41      EQ  512.25  524.0  506.50           513.1             522.75   9.65   \n",
              "22      EQ  459.10  471.7  456.05           458.7             469.50  10.80   \n",
              "484     EQ  626.50  631.8  606.40           626.5             618.90  -7.60   \n",
              "\n",
              "    Percentage Change  Share Volume  Value (Indian Rupee)  52 Week High  \\\n",
              "195             -0.02        386423          9.226236e+07         742.0   \n",
              "303              1.33        170132          1.302616e+08        1212.0   \n",
              "41               1.88        831959          4.290329e+08        1013.0   \n",
              "22               2.35        438273          2.027276e+08         781.6   \n",
              "484             -1.21        125113          7.747372e+07         774.6   \n",
              "\n",
              "     52 Week Low 365 Day Percentage Change 30 Day Percentage Change  \n",
              "195       212.00                    -51.31                   -27.67  \n",
              "303       665.80                    -33.08                     0.56  \n",
              "41        503.45                    -46.84                    -3.33  \n",
              "22        438.05                    -38.43                    -8.69  \n",
              "484       374.00                     56.41                     8.04  "
            ]
          },
          "execution_count": 5,
          "metadata": {},
          "output_type": "execute_result"
        }
      ],
      "source": [
        "df.sample(5)"
      ]
    },
    {
      "cell_type": "code",
      "execution_count": 6,
      "metadata": {
        "colab": {
          "base_uri": "https://localhost:8080/",
          "height": 300
        },
        "id": "9WM_R5r7NK-3",
        "outputId": "b7ef3fc9-dd76-4af8-995f-f26a63e1e57a"
      },
      "outputs": [
        {
          "data": {
            "text/html": [
              "\n",
              "  <div id=\"df-bdd225ac-2843-474a-8005-cf9661da18f4\">\n",
              "    <div class=\"colab-df-container\">\n",
              "      <div>\n",
              "<style scoped>\n",
              "    .dataframe tbody tr th:only-of-type {\n",
              "        vertical-align: middle;\n",
              "    }\n",
              "\n",
              "    .dataframe tbody tr th {\n",
              "        vertical-align: top;\n",
              "    }\n",
              "\n",
              "    .dataframe thead th {\n",
              "        text-align: right;\n",
              "    }\n",
              "</style>\n",
              "<table border=\"1\" class=\"dataframe\">\n",
              "  <thead>\n",
              "    <tr style=\"text-align: right;\">\n",
              "      <th></th>\n",
              "      <th>Open</th>\n",
              "      <th>High</th>\n",
              "      <th>Low</th>\n",
              "      <th>Previous Close</th>\n",
              "      <th>Last Traded Price</th>\n",
              "      <th>Share Volume</th>\n",
              "      <th>Value (Indian Rupee)</th>\n",
              "      <th>52 Week High</th>\n",
              "      <th>52 Week Low</th>\n",
              "    </tr>\n",
              "  </thead>\n",
              "  <tbody>\n",
              "    <tr>\n",
              "      <th>count</th>\n",
              "      <td>501.000000</td>\n",
              "      <td>501.000000</td>\n",
              "      <td>501.000000</td>\n",
              "      <td>501.000000</td>\n",
              "      <td>501.000000</td>\n",
              "      <td>5.010000e+02</td>\n",
              "      <td>5.010000e+02</td>\n",
              "      <td>501.000000</td>\n",
              "      <td>501.000000</td>\n",
              "    </tr>\n",
              "    <tr>\n",
              "      <th>mean</th>\n",
              "      <td>1525.904491</td>\n",
              "      <td>1553.804990</td>\n",
              "      <td>1504.042415</td>\n",
              "      <td>1528.061277</td>\n",
              "      <td>1536.925449</td>\n",
              "      <td>2.580350e+06</td>\n",
              "      <td>8.635146e+08</td>\n",
              "      <td>2182.632196</td>\n",
              "      <td>1281.628982</td>\n",
              "    </tr>\n",
              "    <tr>\n",
              "      <th>std</th>\n",
              "      <td>4466.627117</td>\n",
              "      <td>4576.377692</td>\n",
              "      <td>4435.492332</td>\n",
              "      <td>4477.209376</td>\n",
              "      <td>4532.004734</td>\n",
              "      <td>9.407021e+06</td>\n",
              "      <td>4.335973e+09</td>\n",
              "      <td>5728.930152</td>\n",
              "      <td>3850.529646</td>\n",
              "    </tr>\n",
              "    <tr>\n",
              "      <th>min</th>\n",
              "      <td>6.750000</td>\n",
              "      <td>6.950000</td>\n",
              "      <td>6.700000</td>\n",
              "      <td>6.850000</td>\n",
              "      <td>6.800000</td>\n",
              "      <td>1.507000e+03</td>\n",
              "      <td>2.587223e+06</td>\n",
              "      <td>13.100000</td>\n",
              "      <td>4.550000</td>\n",
              "    </tr>\n",
              "    <tr>\n",
              "      <th>25%</th>\n",
              "      <td>215.300000</td>\n",
              "      <td>221.550000</td>\n",
              "      <td>210.600000</td>\n",
              "      <td>217.200000</td>\n",
              "      <td>214.650000</td>\n",
              "      <td>7.740500e+04</td>\n",
              "      <td>4.502265e+07</td>\n",
              "      <td>328.700000</td>\n",
              "      <td>166.800000</td>\n",
              "    </tr>\n",
              "    <tr>\n",
              "      <th>50%</th>\n",
              "      <td>551.100000</td>\n",
              "      <td>569.100000</td>\n",
              "      <td>547.000000</td>\n",
              "      <td>554.750000</td>\n",
              "      <td>563.000000</td>\n",
              "      <td>3.296100e+05</td>\n",
              "      <td>1.533133e+08</td>\n",
              "      <td>818.000000</td>\n",
              "      <td>438.050000</td>\n",
              "    </tr>\n",
              "    <tr>\n",
              "      <th>75%</th>\n",
              "      <td>1404.500000</td>\n",
              "      <td>1421.250000</td>\n",
              "      <td>1396.850000</td>\n",
              "      <td>1411.700000</td>\n",
              "      <td>1410.000000</td>\n",
              "      <td>1.235612e+06</td>\n",
              "      <td>6.644570e+08</td>\n",
              "      <td>2096.750000</td>\n",
              "      <td>1128.800000</td>\n",
              "    </tr>\n",
              "    <tr>\n",
              "      <th>max</th>\n",
              "      <td>70300.000000</td>\n",
              "      <td>72500.000000</td>\n",
              "      <td>70300.000000</td>\n",
              "      <td>70800.900000</td>\n",
              "      <td>71900.000000</td>\n",
              "      <td>1.257883e+08</td>\n",
              "      <td>9.211987e+10</td>\n",
              "      <td>87550.000000</td>\n",
              "      <td>63000.000000</td>\n",
              "    </tr>\n",
              "  </tbody>\n",
              "</table>\n",
              "</div>\n",
              "      <button class=\"colab-df-convert\" onclick=\"convertToInteractive('df-bdd225ac-2843-474a-8005-cf9661da18f4')\"\n",
              "              title=\"Convert this dataframe to an interactive table.\"\n",
              "              style=\"display:none;\">\n",
              "        \n",
              "  <svg xmlns=\"http://www.w3.org/2000/svg\" height=\"24px\"viewBox=\"0 0 24 24\"\n",
              "       width=\"24px\">\n",
              "    <path d=\"M0 0h24v24H0V0z\" fill=\"none\"/>\n",
              "    <path d=\"M18.56 5.44l.94 2.06.94-2.06 2.06-.94-2.06-.94-.94-2.06-.94 2.06-2.06.94zm-11 1L8.5 8.5l.94-2.06 2.06-.94-2.06-.94L8.5 2.5l-.94 2.06-2.06.94zm10 10l.94 2.06.94-2.06 2.06-.94-2.06-.94-.94-2.06-.94 2.06-2.06.94z\"/><path d=\"M17.41 7.96l-1.37-1.37c-.4-.4-.92-.59-1.43-.59-.52 0-1.04.2-1.43.59L10.3 9.45l-7.72 7.72c-.78.78-.78 2.05 0 2.83L4 21.41c.39.39.9.59 1.41.59.51 0 1.02-.2 1.41-.59l7.78-7.78 2.81-2.81c.8-.78.8-2.07 0-2.86zM5.41 20L4 18.59l7.72-7.72 1.47 1.35L5.41 20z\"/>\n",
              "  </svg>\n",
              "      </button>\n",
              "      \n",
              "  <style>\n",
              "    .colab-df-container {\n",
              "      display:flex;\n",
              "      flex-wrap:wrap;\n",
              "      gap: 12px;\n",
              "    }\n",
              "\n",
              "    .colab-df-convert {\n",
              "      background-color: #E8F0FE;\n",
              "      border: none;\n",
              "      border-radius: 50%;\n",
              "      cursor: pointer;\n",
              "      display: none;\n",
              "      fill: #1967D2;\n",
              "      height: 32px;\n",
              "      padding: 0 0 0 0;\n",
              "      width: 32px;\n",
              "    }\n",
              "\n",
              "    .colab-df-convert:hover {\n",
              "      background-color: #E2EBFA;\n",
              "      box-shadow: 0px 1px 2px rgba(60, 64, 67, 0.3), 0px 1px 3px 1px rgba(60, 64, 67, 0.15);\n",
              "      fill: #174EA6;\n",
              "    }\n",
              "\n",
              "    [theme=dark] .colab-df-convert {\n",
              "      background-color: #3B4455;\n",
              "      fill: #D2E3FC;\n",
              "    }\n",
              "\n",
              "    [theme=dark] .colab-df-convert:hover {\n",
              "      background-color: #434B5C;\n",
              "      box-shadow: 0px 1px 3px 1px rgba(0, 0, 0, 0.15);\n",
              "      filter: drop-shadow(0px 1px 2px rgba(0, 0, 0, 0.3));\n",
              "      fill: #FFFFFF;\n",
              "    }\n",
              "  </style>\n",
              "\n",
              "      <script>\n",
              "        const buttonEl =\n",
              "          document.querySelector('#df-bdd225ac-2843-474a-8005-cf9661da18f4 button.colab-df-convert');\n",
              "        buttonEl.style.display =\n",
              "          google.colab.kernel.accessAllowed ? 'block' : 'none';\n",
              "\n",
              "        async function convertToInteractive(key) {\n",
              "          const element = document.querySelector('#df-bdd225ac-2843-474a-8005-cf9661da18f4');\n",
              "          const dataTable =\n",
              "            await google.colab.kernel.invokeFunction('convertToInteractive',\n",
              "                                                     [key], {});\n",
              "          if (!dataTable) return;\n",
              "\n",
              "          const docLinkHtml = 'Like what you see? Visit the ' +\n",
              "            '<a target=\"_blank\" href=https://colab.research.google.com/notebooks/data_table.ipynb>data table notebook</a>'\n",
              "            + ' to learn more about interactive tables.';\n",
              "          element.innerHTML = '';\n",
              "          dataTable['output_type'] = 'display_data';\n",
              "          await google.colab.output.renderOutput(dataTable, element);\n",
              "          const docLink = document.createElement('div');\n",
              "          docLink.innerHTML = docLinkHtml;\n",
              "          element.appendChild(docLink);\n",
              "        }\n",
              "      </script>\n",
              "    </div>\n",
              "  </div>\n",
              "  "
            ],
            "text/plain": [
              "               Open          High           Low  Previous Close  \\\n",
              "count    501.000000    501.000000    501.000000      501.000000   \n",
              "mean    1525.904491   1553.804990   1504.042415     1528.061277   \n",
              "std     4466.627117   4576.377692   4435.492332     4477.209376   \n",
              "min        6.750000      6.950000      6.700000        6.850000   \n",
              "25%      215.300000    221.550000    210.600000      217.200000   \n",
              "50%      551.100000    569.100000    547.000000      554.750000   \n",
              "75%     1404.500000   1421.250000   1396.850000     1411.700000   \n",
              "max    70300.000000  72500.000000  70300.000000    70800.900000   \n",
              "\n",
              "       Last Traded Price  Share Volume  Value (Indian Rupee)  52 Week High  \\\n",
              "count         501.000000  5.010000e+02          5.010000e+02    501.000000   \n",
              "mean         1536.925449  2.580350e+06          8.635146e+08   2182.632196   \n",
              "std          4532.004734  9.407021e+06          4.335973e+09   5728.930152   \n",
              "min             6.800000  1.507000e+03          2.587223e+06     13.100000   \n",
              "25%           214.650000  7.740500e+04          4.502265e+07    328.700000   \n",
              "50%           563.000000  3.296100e+05          1.533133e+08    818.000000   \n",
              "75%          1410.000000  1.235612e+06          6.644570e+08   2096.750000   \n",
              "max         71900.000000  1.257883e+08          9.211987e+10  87550.000000   \n",
              "\n",
              "        52 Week Low  \n",
              "count    501.000000  \n",
              "mean    1281.628982  \n",
              "std     3850.529646  \n",
              "min        4.550000  \n",
              "25%      166.800000  \n",
              "50%      438.050000  \n",
              "75%     1128.800000  \n",
              "max    63000.000000  "
            ]
          },
          "execution_count": 6,
          "metadata": {},
          "output_type": "execute_result"
        }
      ],
      "source": [
        "df.describe()"
      ]
    },
    {
      "cell_type": "code",
      "execution_count": 7,
      "metadata": {
        "colab": {
          "base_uri": "https://localhost:8080/"
        },
        "id": "UK-rSVhFNRNL",
        "outputId": "7ee98108-0812-4785-ce98-be653a16454a"
      },
      "outputs": [
        {
          "name": "stdout",
          "output_type": "stream",
          "text": [
            "<class 'pandas.core.frame.DataFrame'>\n",
            "RangeIndex: 501 entries, 0 to 500\n",
            "Data columns (total 17 columns):\n",
            " #   Column                     Non-Null Count  Dtype  \n",
            "---  ------                     --------------  -----  \n",
            " 0   Company Name               501 non-null    object \n",
            " 1   Symbol                     501 non-null    object \n",
            " 2   Industry                   501 non-null    object \n",
            " 3   Series                     501 non-null    object \n",
            " 4   Open                       501 non-null    float64\n",
            " 5   High                       501 non-null    float64\n",
            " 6   Low                        501 non-null    float64\n",
            " 7   Previous Close             501 non-null    float64\n",
            " 8   Last Traded Price          501 non-null    float64\n",
            " 9   Change                     501 non-null    object \n",
            " 10  Percentage Change          501 non-null    object \n",
            " 11  Share Volume               501 non-null    int64  \n",
            " 12  Value (Indian Rupee)       501 non-null    float64\n",
            " 13  52 Week High               501 non-null    float64\n",
            " 14  52 Week Low                501 non-null    float64\n",
            " 15  365 Day Percentage Change  501 non-null    object \n",
            " 16  30 Day Percentage Change   501 non-null    object \n",
            "dtypes: float64(8), int64(1), object(8)\n",
            "memory usage: 66.7+ KB\n"
          ]
        }
      ],
      "source": [
        "df.info()"
      ]
    },
    {
      "cell_type": "code",
      "execution_count": 8,
      "metadata": {
        "colab": {
          "base_uri": "https://localhost:8080/",
          "height": 331
        },
        "id": "IcPU39eDOFac",
        "outputId": "293ecc4e-f835-463a-ef9d-62f64f1569db"
      },
      "outputs": [
        {
          "data": {
            "text/html": [
              "\n",
              "  <div id=\"df-dd926cda-8e2f-4661-99b6-09eff61db199\">\n",
              "    <div class=\"colab-df-container\">\n",
              "      <div>\n",
              "<style scoped>\n",
              "    .dataframe tbody tr th:only-of-type {\n",
              "        vertical-align: middle;\n",
              "    }\n",
              "\n",
              "    .dataframe tbody tr th {\n",
              "        vertical-align: top;\n",
              "    }\n",
              "\n",
              "    .dataframe thead th {\n",
              "        text-align: right;\n",
              "    }\n",
              "</style>\n",
              "<table border=\"1\" class=\"dataframe\">\n",
              "  <thead>\n",
              "    <tr style=\"text-align: right;\">\n",
              "      <th></th>\n",
              "      <th>Open</th>\n",
              "      <th>High</th>\n",
              "      <th>Low</th>\n",
              "      <th>Previous Close</th>\n",
              "      <th>Last Traded Price</th>\n",
              "      <th>Share Volume</th>\n",
              "      <th>Value (Indian Rupee)</th>\n",
              "      <th>52 Week High</th>\n",
              "      <th>52 Week Low</th>\n",
              "    </tr>\n",
              "  </thead>\n",
              "  <tbody>\n",
              "    <tr>\n",
              "      <th>Open</th>\n",
              "      <td>1.000000</td>\n",
              "      <td>0.999913</td>\n",
              "      <td>0.999922</td>\n",
              "      <td>0.999983</td>\n",
              "      <td>0.999832</td>\n",
              "      <td>-0.073017</td>\n",
              "      <td>0.015560</td>\n",
              "      <td>0.990757</td>\n",
              "      <td>0.994696</td>\n",
              "    </tr>\n",
              "    <tr>\n",
              "      <th>High</th>\n",
              "      <td>0.999913</td>\n",
              "      <td>1.000000</td>\n",
              "      <td>0.999972</td>\n",
              "      <td>0.999948</td>\n",
              "      <td>0.999973</td>\n",
              "      <td>-0.072560</td>\n",
              "      <td>0.015471</td>\n",
              "      <td>0.990122</td>\n",
              "      <td>0.994539</td>\n",
              "    </tr>\n",
              "    <tr>\n",
              "      <th>Low</th>\n",
              "      <td>0.999922</td>\n",
              "      <td>0.999972</td>\n",
              "      <td>1.000000</td>\n",
              "      <td>0.999958</td>\n",
              "      <td>0.999957</td>\n",
              "      <td>-0.072955</td>\n",
              "      <td>0.013760</td>\n",
              "      <td>0.990240</td>\n",
              "      <td>0.994778</td>\n",
              "    </tr>\n",
              "    <tr>\n",
              "      <th>Previous Close</th>\n",
              "      <td>0.999983</td>\n",
              "      <td>0.999948</td>\n",
              "      <td>0.999958</td>\n",
              "      <td>1.000000</td>\n",
              "      <td>0.999890</td>\n",
              "      <td>-0.072869</td>\n",
              "      <td>0.015826</td>\n",
              "      <td>0.990570</td>\n",
              "      <td>0.994867</td>\n",
              "    </tr>\n",
              "    <tr>\n",
              "      <th>Last Traded Price</th>\n",
              "      <td>0.999832</td>\n",
              "      <td>0.999973</td>\n",
              "      <td>0.999957</td>\n",
              "      <td>0.999890</td>\n",
              "      <td>1.000000</td>\n",
              "      <td>-0.072868</td>\n",
              "      <td>0.014145</td>\n",
              "      <td>0.989987</td>\n",
              "      <td>0.994556</td>\n",
              "    </tr>\n",
              "    <tr>\n",
              "      <th>Share Volume</th>\n",
              "      <td>-0.073017</td>\n",
              "      <td>-0.072560</td>\n",
              "      <td>-0.072955</td>\n",
              "      <td>-0.072869</td>\n",
              "      <td>-0.072868</td>\n",
              "      <td>1.000000</td>\n",
              "      <td>0.355911</td>\n",
              "      <td>-0.081720</td>\n",
              "      <td>-0.071625</td>\n",
              "    </tr>\n",
              "    <tr>\n",
              "      <th>Value (Indian Rupee)</th>\n",
              "      <td>0.015560</td>\n",
              "      <td>0.015471</td>\n",
              "      <td>0.013760</td>\n",
              "      <td>0.015826</td>\n",
              "      <td>0.014145</td>\n",
              "      <td>0.355911</td>\n",
              "      <td>1.000000</td>\n",
              "      <td>0.010011</td>\n",
              "      <td>0.014308</td>\n",
              "    </tr>\n",
              "    <tr>\n",
              "      <th>52 Week High</th>\n",
              "      <td>0.990757</td>\n",
              "      <td>0.990122</td>\n",
              "      <td>0.990240</td>\n",
              "      <td>0.990570</td>\n",
              "      <td>0.989987</td>\n",
              "      <td>-0.081720</td>\n",
              "      <td>0.010011</td>\n",
              "      <td>1.000000</td>\n",
              "      <td>0.991259</td>\n",
              "    </tr>\n",
              "    <tr>\n",
              "      <th>52 Week Low</th>\n",
              "      <td>0.994696</td>\n",
              "      <td>0.994539</td>\n",
              "      <td>0.994778</td>\n",
              "      <td>0.994867</td>\n",
              "      <td>0.994556</td>\n",
              "      <td>-0.071625</td>\n",
              "      <td>0.014308</td>\n",
              "      <td>0.991259</td>\n",
              "      <td>1.000000</td>\n",
              "    </tr>\n",
              "  </tbody>\n",
              "</table>\n",
              "</div>\n",
              "      <button class=\"colab-df-convert\" onclick=\"convertToInteractive('df-dd926cda-8e2f-4661-99b6-09eff61db199')\"\n",
              "              title=\"Convert this dataframe to an interactive table.\"\n",
              "              style=\"display:none;\">\n",
              "        \n",
              "  <svg xmlns=\"http://www.w3.org/2000/svg\" height=\"24px\"viewBox=\"0 0 24 24\"\n",
              "       width=\"24px\">\n",
              "    <path d=\"M0 0h24v24H0V0z\" fill=\"none\"/>\n",
              "    <path d=\"M18.56 5.44l.94 2.06.94-2.06 2.06-.94-2.06-.94-.94-2.06-.94 2.06-2.06.94zm-11 1L8.5 8.5l.94-2.06 2.06-.94-2.06-.94L8.5 2.5l-.94 2.06-2.06.94zm10 10l.94 2.06.94-2.06 2.06-.94-2.06-.94-.94-2.06-.94 2.06-2.06.94z\"/><path d=\"M17.41 7.96l-1.37-1.37c-.4-.4-.92-.59-1.43-.59-.52 0-1.04.2-1.43.59L10.3 9.45l-7.72 7.72c-.78.78-.78 2.05 0 2.83L4 21.41c.39.39.9.59 1.41.59.51 0 1.02-.2 1.41-.59l7.78-7.78 2.81-2.81c.8-.78.8-2.07 0-2.86zM5.41 20L4 18.59l7.72-7.72 1.47 1.35L5.41 20z\"/>\n",
              "  </svg>\n",
              "      </button>\n",
              "      \n",
              "  <style>\n",
              "    .colab-df-container {\n",
              "      display:flex;\n",
              "      flex-wrap:wrap;\n",
              "      gap: 12px;\n",
              "    }\n",
              "\n",
              "    .colab-df-convert {\n",
              "      background-color: #E8F0FE;\n",
              "      border: none;\n",
              "      border-radius: 50%;\n",
              "      cursor: pointer;\n",
              "      display: none;\n",
              "      fill: #1967D2;\n",
              "      height: 32px;\n",
              "      padding: 0 0 0 0;\n",
              "      width: 32px;\n",
              "    }\n",
              "\n",
              "    .colab-df-convert:hover {\n",
              "      background-color: #E2EBFA;\n",
              "      box-shadow: 0px 1px 2px rgba(60, 64, 67, 0.3), 0px 1px 3px 1px rgba(60, 64, 67, 0.15);\n",
              "      fill: #174EA6;\n",
              "    }\n",
              "\n",
              "    [theme=dark] .colab-df-convert {\n",
              "      background-color: #3B4455;\n",
              "      fill: #D2E3FC;\n",
              "    }\n",
              "\n",
              "    [theme=dark] .colab-df-convert:hover {\n",
              "      background-color: #434B5C;\n",
              "      box-shadow: 0px 1px 3px 1px rgba(0, 0, 0, 0.15);\n",
              "      filter: drop-shadow(0px 1px 2px rgba(0, 0, 0, 0.3));\n",
              "      fill: #FFFFFF;\n",
              "    }\n",
              "  </style>\n",
              "\n",
              "      <script>\n",
              "        const buttonEl =\n",
              "          document.querySelector('#df-dd926cda-8e2f-4661-99b6-09eff61db199 button.colab-df-convert');\n",
              "        buttonEl.style.display =\n",
              "          google.colab.kernel.accessAllowed ? 'block' : 'none';\n",
              "\n",
              "        async function convertToInteractive(key) {\n",
              "          const element = document.querySelector('#df-dd926cda-8e2f-4661-99b6-09eff61db199');\n",
              "          const dataTable =\n",
              "            await google.colab.kernel.invokeFunction('convertToInteractive',\n",
              "                                                     [key], {});\n",
              "          if (!dataTable) return;\n",
              "\n",
              "          const docLinkHtml = 'Like what you see? Visit the ' +\n",
              "            '<a target=\"_blank\" href=https://colab.research.google.com/notebooks/data_table.ipynb>data table notebook</a>'\n",
              "            + ' to learn more about interactive tables.';\n",
              "          element.innerHTML = '';\n",
              "          dataTable['output_type'] = 'display_data';\n",
              "          await google.colab.output.renderOutput(dataTable, element);\n",
              "          const docLink = document.createElement('div');\n",
              "          docLink.innerHTML = docLinkHtml;\n",
              "          element.appendChild(docLink);\n",
              "        }\n",
              "      </script>\n",
              "    </div>\n",
              "  </div>\n",
              "  "
            ],
            "text/plain": [
              "                          Open      High       Low  Previous Close  \\\n",
              "Open                  1.000000  0.999913  0.999922        0.999983   \n",
              "High                  0.999913  1.000000  0.999972        0.999948   \n",
              "Low                   0.999922  0.999972  1.000000        0.999958   \n",
              "Previous Close        0.999983  0.999948  0.999958        1.000000   \n",
              "Last Traded Price     0.999832  0.999973  0.999957        0.999890   \n",
              "Share Volume         -0.073017 -0.072560 -0.072955       -0.072869   \n",
              "Value (Indian Rupee)  0.015560  0.015471  0.013760        0.015826   \n",
              "52 Week High          0.990757  0.990122  0.990240        0.990570   \n",
              "52 Week Low           0.994696  0.994539  0.994778        0.994867   \n",
              "\n",
              "                      Last Traded Price  Share Volume  Value (Indian Rupee)  \\\n",
              "Open                           0.999832     -0.073017              0.015560   \n",
              "High                           0.999973     -0.072560              0.015471   \n",
              "Low                            0.999957     -0.072955              0.013760   \n",
              "Previous Close                 0.999890     -0.072869              0.015826   \n",
              "Last Traded Price              1.000000     -0.072868              0.014145   \n",
              "Share Volume                  -0.072868      1.000000              0.355911   \n",
              "Value (Indian Rupee)           0.014145      0.355911              1.000000   \n",
              "52 Week High                   0.989987     -0.081720              0.010011   \n",
              "52 Week Low                    0.994556     -0.071625              0.014308   \n",
              "\n",
              "                      52 Week High  52 Week Low  \n",
              "Open                      0.990757     0.994696  \n",
              "High                      0.990122     0.994539  \n",
              "Low                       0.990240     0.994778  \n",
              "Previous Close            0.990570     0.994867  \n",
              "Last Traded Price         0.989987     0.994556  \n",
              "Share Volume             -0.081720    -0.071625  \n",
              "Value (Indian Rupee)      0.010011     0.014308  \n",
              "52 Week High              1.000000     0.991259  \n",
              "52 Week Low               0.991259     1.000000  "
            ]
          },
          "execution_count": 8,
          "metadata": {},
          "output_type": "execute_result"
        }
      ],
      "source": [
        "df.corr()"
      ]
    },
    {
      "cell_type": "code",
      "execution_count": 25,
      "metadata": {
        "id": "-6u4XLjm_ZuX"
      },
      "outputs": [],
      "source": [
        "#HYPOTHETICAL TESTING :\n",
        "#Z-TEST"
      ]
    },
    {
      "cell_type": "code",
      "execution_count": 12,
      "metadata": {
        "colab": {
          "base_uri": "https://localhost:8080/"
        },
        "id": "9dF8yy1MD0nu",
        "outputId": "69f1b74f-344d-4bdf-d124-aafb0e9176cb"
      },
      "outputs": [
        {
          "data": {
            "text/plain": [
              "300019.3653846154"
            ]
          },
          "execution_count": 12,
          "metadata": {},
          "output_type": "execute_result"
        }
      ],
      "source": [
        "x =df['Share Volume'][df['Industry']=='Healthcare'].mean()\n",
        "x"
      ]
    },
    {
      "cell_type": "code",
      "execution_count": 15,
      "metadata": {
        "colab": {
          "base_uri": "https://localhost:8080/"
        },
        "id": "FzcZbFm0ECxF",
        "outputId": "0bb8e207-cd4d-4141-a2c1-b39b3b217e18"
      },
      "outputs": [
        {
          "data": {
            "text/plain": [
              "288521.97222222225"
            ]
          },
          "execution_count": 15,
          "metadata": {},
          "output_type": "execute_result"
        }
      ],
      "source": [
        "z = df['Share Volume'][df['Industry']=='Healthcare']\n",
        "sample = z.sample(36)\n",
        "a = sample.mean()\n",
        "a"
      ]
    },
    {
      "cell_type": "code",
      "execution_count": 14,
      "metadata": {
        "colab": {
          "base_uri": "https://localhost:8080/"
        },
        "id": "kU11OTOCEQim",
        "outputId": "cbc95800-46d0-4206-f745-b2c7fa565ee8"
      },
      "outputs": [
        {
          "data": {
            "text/plain": [
              "455996.1289782385"
            ]
          },
          "execution_count": 14,
          "metadata": {},
          "output_type": "execute_result"
        }
      ],
      "source": [
        "y =df['Share Volume'][df['Industry']=='Healthcare'].std()\n",
        "y"
      ]
    },
    {
      "cell_type": "code",
      "execution_count": 10,
      "metadata": {
        "id": "dgsdksAQABdS"
      },
      "outputs": [],
      "source": [
        "#problem statement\n",
        "#Healthcare industries has average share volume of x and standard deviation of y recorded over past 2 weeks. A sample of 36 has been recorded with mean of a. There is a claim made by business analysts that average mean has not been changed. Is there enough evidence to reject the claim?"
      ]
    },
    {
      "cell_type": "code",
      "execution_count": 16,
      "metadata": {
        "id": "6_Ue7e3vDp_V"
      },
      "outputs": [],
      "source": [
        "#h0 : mean = x\n",
        "#h1: mean != x"
      ]
    },
    {
      "cell_type": "code",
      "execution_count": 17,
      "metadata": {
        "id": "EAg_r1i2DzVJ"
      },
      "outputs": [],
      "source": [
        "#using two tailed test\n",
        "alpha=0.05\n",
        "\n",
        "b = a\n",
        "n = 36\n",
        "std = y"
      ]
    },
    {
      "cell_type": "code",
      "execution_count": 21,
      "metadata": {
        "colab": {
          "base_uri": "https://localhost:8080/"
        },
        "id": "2dI_uMy0Hsi6",
        "outputId": "38b45b91-72f6-4db0-bf2b-4a4ab3b2cf36"
      },
      "outputs": [
        {
          "data": {
            "text/plain": [
              "-0.15128277323084668"
            ]
          },
          "execution_count": 21,
          "metadata": {},
          "output_type": "execute_result"
        }
      ],
      "source": [
        "z= (a-x)/(std/np.sqrt(n))\n",
        "z"
      ]
    },
    {
      "cell_type": "code",
      "execution_count": 23,
      "metadata": {
        "colab": {
          "base_uri": "https://localhost:8080/"
        },
        "id": "BwSn5Qy2Hz14",
        "outputId": "c5d3dd7e-695e-4272-de3b-dce4a880e296"
      },
      "outputs": [
        {
          "data": {
            "text/plain": [
              "-1.9599639845400545"
            ]
          },
          "execution_count": 23,
          "metadata": {},
          "output_type": "execute_result"
        }
      ],
      "source": [
        "z_critical = st.norm.ppf(alpha/2)\n",
        "z_critical"
      ]
    },
    {
      "cell_type": "code",
      "execution_count": 24,
      "metadata": {
        "colab": {
          "base_uri": "https://localhost:8080/"
        },
        "id": "fq3RmC-bIcRj",
        "outputId": "5187fbeb-892e-4f7c-bcaa-68e794b4b60c"
      },
      "outputs": [
        {
          "name": "stdout",
          "output_type": "stream",
          "text": [
            "Rejecting Null Hypothesis\n"
          ]
        }
      ],
      "source": [
        "if (z>z_critical or z<(-z_critical)):\n",
        "  print('Rejecting Null Hypothesis')\n",
        "else:\n",
        "  print('Fail to Reject Null Hypothesis')"
      ]
    },
    {
      "cell_type": "code",
      "execution_count": 26,
      "metadata": {
        "id": "0LdmpicUIekP"
      },
      "outputs": [],
      "source": [
        "#T-Test"
      ]
    },
    {
      "cell_type": "code",
      "execution_count": 28,
      "metadata": {
        "colab": {
          "base_uri": "https://localhost:8080/"
        },
        "id": "zQ637z30Nwlq",
        "outputId": "44a779f9-e68c-44ee-e229-f22141263e42"
      },
      "outputs": [
        {
          "data": {
            "text/plain": [
              "4756.17"
            ]
          },
          "execution_count": 28,
          "metadata": {},
          "output_type": "execute_result"
        }
      ],
      "source": [
        "x =df['Last Traded Price'][df['Industry']=='Textiles'].mean()\n",
        "x"
      ]
    },
    {
      "cell_type": "code",
      "execution_count": 34,
      "metadata": {
        "colab": {
          "base_uri": "https://localhost:8080/"
        },
        "id": "BtAYfLlbNwoH",
        "outputId": "c7b520fe-4639-41c2-c454-2db2a1984181"
      },
      "outputs": [
        {
          "data": {
            "text/plain": [
              "987.35"
            ]
          },
          "execution_count": 34,
          "metadata": {},
          "output_type": "execute_result"
        }
      ],
      "source": [
        "z =df['Last Traded Price'][df['Industry']=='Textiles']\n",
        "sample = z.sample(5)\n",
        "a=sample.mean()\n",
        "a"
      ]
    },
    {
      "cell_type": "code",
      "execution_count": 32,
      "metadata": {
        "colab": {
          "base_uri": "https://localhost:8080/"
        },
        "id": "9nWLkCR_Nwp3",
        "outputId": "95650bd1-d7aa-4cec-b770-a0741abc6445"
      },
      "outputs": [
        {
          "data": {
            "text/plain": [
              "12853.547430685776"
            ]
          },
          "execution_count": 32,
          "metadata": {},
          "output_type": "execute_result"
        }
      ],
      "source": [
        "y =df['Last Traded Price'][df['Industry']=='Textiles'].std()\n",
        "y"
      ]
    },
    {
      "cell_type": "code",
      "execution_count": null,
      "metadata": {
        "id": "InYMTwwJNwx5"
      },
      "outputs": [],
      "source": []
    },
    {
      "cell_type": "code",
      "execution_count": 33,
      "metadata": {
        "id": "NLlO-C-6L77f"
      },
      "outputs": [],
      "source": [
        "#problem statement\n",
        "#Textile industries has average last trade of x and standard deviation of y recorded over past 2 weeks. A sample of 15 has been recorded with mean of a. There is a claim made by business analysts that average mean is greater than 4000 . Is there enough evidence to reject the claim?"
      ]
    },
    {
      "cell_type": "code",
      "execution_count": 36,
      "metadata": {
        "colab": {
          "base_uri": "https://localhost:8080/"
        },
        "id": "XYwFxXTQNerR",
        "outputId": "b38788f3-335b-4c69-fedc-f932bb966ab6"
      },
      "outputs": [
        {
          "data": {
            "text/plain": [
              "-1.4062965961324185"
            ]
          },
          "execution_count": 36,
          "metadata": {},
          "output_type": "execute_result"
        }
      ],
      "source": [
        "t= (a-4000)/(y/np.sqrt(n))\n",
        "t"
      ]
    },
    {
      "cell_type": "code",
      "execution_count": 37,
      "metadata": {
        "id": "m8W8KcucO6r_"
      },
      "outputs": [],
      "source": [
        "dof = n-1"
      ]
    },
    {
      "cell_type": "code",
      "execution_count": 38,
      "metadata": {
        "colab": {
          "base_uri": "https://localhost:8080/"
        },
        "id": "TSDWjcduPXGS",
        "outputId": "5e1f2258-0678-4085-9e35-778c9303c73a"
      },
      "outputs": [
        {
          "data": {
            "text/plain": [
              "-2.030107928250343"
            ]
          },
          "execution_count": 38,
          "metadata": {},
          "output_type": "execute_result"
        }
      ],
      "source": [
        "t_critical = st.t.ppf(alpha/2, dof)\n",
        "t_critical"
      ]
    },
    {
      "cell_type": "code",
      "execution_count": 40,
      "metadata": {
        "colab": {
          "base_uri": "https://localhost:8080/"
        },
        "id": "qWIYj5UKP1va",
        "outputId": "ba91e7f8-e20e-4f8d-81dc-965f870c2d21"
      },
      "outputs": [
        {
          "name": "stdout",
          "output_type": "stream",
          "text": [
            "Reject null hypothesis\n"
          ]
        }
      ],
      "source": [
        "if (t < t_critical): #Right-tailed test\n",
        "    print(\"Null hypothesis cannot be rejected\")\n",
        "else:\n",
        "    print(\"Reject null hypothesis\")"
      ]
    },
    {
      "cell_type": "code",
      "execution_count": null,
      "metadata": {
        "id": "kveYGTWbP8Lq"
      },
      "outputs": [],
      "source": []
    }
  ],
  "metadata": {
    "colab": {
      "provenance": []
    },
    "kernelspec": {
      "display_name": "Python 3",
      "name": "python3"
    },
    "language_info": {
      "name": "python"
    }
  },
  "nbformat": 4,
  "nbformat_minor": 0
}
