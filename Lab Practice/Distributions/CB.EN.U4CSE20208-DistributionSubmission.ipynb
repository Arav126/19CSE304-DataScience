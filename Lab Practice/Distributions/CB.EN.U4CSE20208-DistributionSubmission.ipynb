{
 "cells": [
  {
   "cell_type": "markdown",
   "id": "c9e1addb-9c94-41be-96bd-2bc24a405450",
   "metadata": {},
   "source": [
    "# Distribution Submission - FoDS\n",
    "- Name : Araivnd S\n",
    "- Roll No : CB.EN.U4CSE20208"
   ]
  },
  {
   "cell_type": "code",
   "execution_count": 2,
   "id": "a7836ea0-9b8e-43e8-9559-eb59bbfae413",
   "metadata": {},
   "outputs": [],
   "source": [
    "import numpy as np\n",
    "import pandas as pd\n",
    "import matplotlib.pyplot as plt"
   ]
  },
  {
   "cell_type": "markdown",
   "id": "d01bd5c4-1a90-4537-aec4-fc0e526d15ff",
   "metadata": {},
   "source": [
    "## Binomial Distribution"
   ]
  },
  {
   "cell_type": "code",
   "execution_count": 3,
   "id": "9f76e74b-2eed-4c46-9e59-72e4f3f063e1",
   "metadata": {},
   "outputs": [
    {
     "data": {
      "text/plain": [
       "0.13275"
      ]
     },
     "execution_count": 3,
     "metadata": {},
     "output_type": "execute_result"
    }
   ],
   "source": [
    "var = sum(np.random.binomial(12,0.2,20000)==4)/20000\n",
    "var"
   ]
  },
  {
   "cell_type": "code",
   "execution_count": 4,
   "id": "657ecc5a-0fb5-42ed-a676-e1fcae67515a",
   "metadata": {},
   "outputs": [
    {
     "data": {
      "text/plain": [
       "0.0643"
      ]
     },
     "execution_count": 4,
     "metadata": {},
     "output_type": "execute_result"
    }
   ],
   "source": [
    "var = sum(np.random.binomial(9,0.2,20000)==4)/20000\n",
    "var"
   ]
  },
  {
   "cell_type": "code",
   "execution_count": 5,
   "id": "e4866089-a14d-4612-8ad3-6b0732c71a48",
   "metadata": {},
   "outputs": [
    {
     "data": {
      "text/plain": [
       "<BarContainer object of 10 artists>"
      ]
     },
     "execution_count": 5,
     "metadata": {},
     "output_type": "execute_result"
    },
    {
     "data": {
      "image/png": "[encoded data removed]",
      "text/plain": [
       "<Figure size 432x288 with 1 Axes>"
      ]
     },
     "metadata": {
      "needs_background": "light"
     },
     "output_type": "display_data"
    }
   ],
   "source": [
    "a = pd.Series(np.random.binomial(12,0.2,20000)).value_counts().index\n",
    "b = pd.Series(np.random.binomial(12,0.2,20000)).value_counts().values\n",
    "plt.bar(a,b)\n",
    "# plt.show()"
   ]
  },
  {
   "cell_type": "markdown",
   "id": "57f63009-b4ef-4495-926a-05c2c0f957e4",
   "metadata": {},
   "source": [
    "## Poisson Distribution"
   ]
  },
  {
   "cell_type": "code",
   "execution_count": 7,
   "id": "de03f226-e7dc-4ab0-992e-7b6f661b0870",
   "metadata": {},
   "outputs": [
    {
     "data": {
      "text/plain": [
       "array([ 9, 15,  6, ..., 14, 12, 10])"
      ]
     },
     "execution_count": 7,
     "metadata": {},
     "output_type": "execute_result"
    }
   ],
   "source": [
    "np.random.poisson(12,10000)"
   ]
  },
  {
   "cell_type": "code",
   "execution_count": 8,
   "id": "54a0e000-b14d-41f2-b188-41e27ec41304",
   "metadata": {},
   "outputs": [
    {
     "data": {
      "text/plain": [
       "(array([4.500e+01, 8.910e+02, 3.860e+03, 6.686e+03, 3.954e+03, 3.366e+03,\n",
       "        9.990e+02, 1.790e+02, 1.600e+01, 4.000e+00]),\n",
       " array([ 1. ,  3.8,  6.6,  9.4, 12.2, 15. , 17.8, 20.6, 23.4, 26.2, 29. ]),\n",
       " <BarContainer object of 10 artists>)"
      ]
     },
     "execution_count": 8,
     "metadata": {},
     "output_type": "execute_result"
    },
    {
     "data": {
      "image/png": "[encoded data removed]",
      "text/plain": [
       "<Figure size 432x288 with 1 Axes>"
      ]
     },
     "metadata": {
      "needs_background": "light"
     },
     "output_type": "display_data"
    }
   ],
   "source": [
    "plt.hist(np.random.poisson(12,20000))"
   ]
  },
  {
   "cell_type": "markdown",
   "id": "34752e36-5f24-4f48-88e3-cf73b6a7073c",
   "metadata": {},
   "source": [
    "## Uniform Distribution"
   ]
  },
  {
   "cell_type": "code",
   "execution_count": 9,
   "id": "fed5f756-85e5-46ef-8722-87895afd181d",
   "metadata": {},
   "outputs": [
    {
     "data": {
      "text/plain": [
       "array([16.58095866,  9.69872068, 19.40050259, ..., 14.65958345,\n",
       "       15.1456956 , 10.99368038])"
      ]
     },
     "execution_count": 9,
     "metadata": {},
     "output_type": "execute_result"
    }
   ],
   "source": [
    "np.random.uniform(0,20,10000)"
   ]
  },
  {
   "cell_type": "code",
   "execution_count": 10,
   "id": "82ae6aac-ebba-412b-8fa3-f46bb32233dd",
   "metadata": {},
   "outputs": [
    {
     "name": "stdout",
     "output_type": "stream",
     "text": [
      "0.4988 0.5012\n"
     ]
    }
   ],
   "source": [
    "x = np.random.uniform(0,20,10000)\n",
    "y = sum(x>10)/10000\n",
    "z = sum(x<10)/10000\n",
    "print(y,z)"
   ]
  },
  {
   "cell_type": "code",
   "execution_count": 12,
   "id": "1d5a8fef-3ab9-4bc4-a186-9bd90ce35f9c",
   "metadata": {},
   "outputs": [
    {
     "data": {
      "text/plain": [
       "0.7468"
      ]
     },
     "execution_count": 12,
     "metadata": {},
     "output_type": "execute_result"
    }
   ],
   "source": [
    "sum(np.random.uniform(0,20,10000)>5)/10000-(sum(np.random.uniform(0,20,10000)<10/10000))"
   ]
  },
  {
   "cell_type": "markdown",
   "id": "5f446ec3-9b65-4bda-9996-d0e3b34b3f86",
   "metadata": {},
   "source": [
    "## Normal Distribution"
   ]
  },
  {
   "cell_type": "code",
   "execution_count": 13,
   "id": "7be8a094-32c6-4827-9d3e-1d9b5856652b",
   "metadata": {},
   "outputs": [
    {
     "data": {
      "text/plain": [
       "array([22.52738496,  5.45042944,  7.00754071, ...,  8.83465569,\n",
       "       14.26210656, 15.42110835])"
      ]
     },
     "execution_count": 13,
     "metadata": {},
     "output_type": "execute_result"
    }
   ],
   "source": [
    "mean = 15\n",
    "sd = 7\n",
    "a = np.random.normal(mean,sd,10000)\n",
    "a"
   ]
  },
  {
   "cell_type": "code",
   "execution_count": 15,
   "id": "1dd02b89-192b-4523-8861-a13b315e3907",
   "metadata": {},
   "outputs": [
    {
     "data": {
      "text/plain": [
       "array([0.8129872 , 0.71661118, 0.79182578, ..., 0.87032111, 0.99801244,\n",
       "       0.99935224])"
      ]
     },
     "execution_count": 15,
     "metadata": {},
     "output_type": "execute_result"
    }
   ],
   "source": [
    "b = np.exp((-(((a-mean)/sd)**2)/2)/sd*(2*np.pi)**0.5)\n",
    "b"
   ]
  },
  {
   "cell_type": "code",
   "execution_count": 16,
   "id": "9095e92e-b49a-4614-9f29-6c8ea3868b7a",
   "metadata": {},
   "outputs": [
    {
     "data": {
      "text/plain": [
       "<BarContainer object of 10000 artists>"
      ]
     },
     "execution_count": 16,
     "metadata": {},
     "output_type": "execute_result"
    },
    {
     "data": {
      "image/png": "[encoded data removed]",
      "text/plain": [
       "<Figure size 432x288 with 1 Axes>"
      ]
     },
     "metadata": {
      "needs_background": "light"
     },
     "output_type": "display_data"
    }
   ],
   "source": [
    "plt.bar(a,b)"
   ]
  },
  {
   "cell_type": "code",
   "execution_count": 18,
   "id": "c4b909a4-85cd-4230-9476-8d19960eb2a3",
   "metadata": {},
   "outputs": [],
   "source": [
    "#end"
   ]
  }
 ],
 "metadata": {
  "kernelspec": {
   "display_name": "Python 3 (ipykernel)",
   "language": "python",
   "name": "python3"
  },
  "language_info": {
   "codemirror_mode": {
    "name": "ipython",
    "version": 3
   },
   "file_extension": ".py",
   "mimetype": "text/x-python",
   "name": "python",
   "nbconvert_exporter": "python",
   "pygments_lexer": "ipython3",
   "version": "3.9.12"
  }
 },
 "nbformat": 4,
 "nbformat_minor": 5
}
