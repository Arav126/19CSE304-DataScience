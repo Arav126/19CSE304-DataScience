{
 "cells": [
  {
   "cell_type": "code",
   "execution_count": 3,
   "metadata": {
    "id": "4-dri08wotbC"
   },
   "outputs": [],
   "source": [
    "import pandas as pd\n",
    "import numpy as np\n",
    "import matplotlib.pyplot as plt\n",
    "import numpy as np\n",
    "import scipy.stats as st"
   ]
  },
  {
   "cell_type": "code",
   "execution_count": 4,
   "metadata": {
    "colab": {
     "base_uri": "https://localhost:8080/",
     "height": 658
    },
    "id": "4N7DZIH9o6Yw",
    "outputId": "0738a1dd-a770-405e-e9e6-7feb856605ba"
   },
   "outputs": [
    {
     "data": {
      "text/html": [
       "<div>\n",
       "<style scoped>\n",
       "    .dataframe tbody tr th:only-of-type {\n",
       "        vertical-align: middle;\n",
       "    }\n",
       "\n",
       "    .dataframe tbody tr th {\n",
       "        vertical-align: top;\n",
       "    }\n",
       "\n",
       "    .dataframe thead th {\n",
       "        text-align: right;\n",
       "    }\n",
       "</style>\n",
       "<table border=\"1\" class=\"dataframe\">\n",
       "  <thead>\n",
       "    <tr style=\"text-align: right;\">\n",
       "      <th></th>\n",
       "      <th>Symbol</th>\n",
       "      <th>Series</th>\n",
       "      <th>Date</th>\n",
       "      <th>Prev Close</th>\n",
       "      <th>Open Price</th>\n",
       "      <th>High Price</th>\n",
       "      <th>Low Price</th>\n",
       "      <th>Last Price</th>\n",
       "      <th>Close Price</th>\n",
       "      <th>Average Price</th>\n",
       "      <th>Total Traded Quantity</th>\n",
       "      <th>Turnover</th>\n",
       "      <th>No. of Trades</th>\n",
       "      <th>Deliverable Qty</th>\n",
       "      <th>% Dly Qt to Traded Qty</th>\n",
       "    </tr>\n",
       "  </thead>\n",
       "  <tbody>\n",
       "    <tr>\n",
       "      <th>0</th>\n",
       "      <td>RELIANCE</td>\n",
       "      <td>EQ</td>\n",
       "      <td>1-Jan-16</td>\n",
       "      <td>1014.60</td>\n",
       "      <td>1009.80</td>\n",
       "      <td>1018.9</td>\n",
       "      <td>1008.20</td>\n",
       "      <td>1013.6</td>\n",
       "      <td>1015.35</td>\n",
       "      <td>1015.52</td>\n",
       "      <td>1238135</td>\n",
       "      <td>1.257353e+09</td>\n",
       "      <td>30701</td>\n",
       "      <td>529539</td>\n",
       "      <td>42.77</td>\n",
       "    </tr>\n",
       "    <tr>\n",
       "      <th>1</th>\n",
       "      <td>RELIANCE</td>\n",
       "      <td>EQ</td>\n",
       "      <td>4-Jan-16</td>\n",
       "      <td>1015.35</td>\n",
       "      <td>1005.00</td>\n",
       "      <td>1013.8</td>\n",
       "      <td>986.70</td>\n",
       "      <td>993.2</td>\n",
       "      <td>995.30</td>\n",
       "      <td>998.91</td>\n",
       "      <td>6896571</td>\n",
       "      <td>6.889070e+09</td>\n",
       "      <td>66235</td>\n",
       "      <td>4974602</td>\n",
       "      <td>72.13</td>\n",
       "    </tr>\n",
       "    <tr>\n",
       "      <th>2</th>\n",
       "      <td>RELIANCE</td>\n",
       "      <td>EQ</td>\n",
       "      <td>5-Jan-16</td>\n",
       "      <td>995.30</td>\n",
       "      <td>1000.30</td>\n",
       "      <td>1010.0</td>\n",
       "      <td>997.00</td>\n",
       "      <td>1005.0</td>\n",
       "      <td>1005.15</td>\n",
       "      <td>1003.41</td>\n",
       "      <td>3416459</td>\n",
       "      <td>3.428125e+09</td>\n",
       "      <td>59935</td>\n",
       "      <td>1987804</td>\n",
       "      <td>58.18</td>\n",
       "    </tr>\n",
       "    <tr>\n",
       "      <th>3</th>\n",
       "      <td>RELIANCE</td>\n",
       "      <td>EQ</td>\n",
       "      <td>6-Jan-16</td>\n",
       "      <td>1005.15</td>\n",
       "      <td>1007.60</td>\n",
       "      <td>1038.4</td>\n",
       "      <td>1000.40</td>\n",
       "      <td>1029.1</td>\n",
       "      <td>1032.20</td>\n",
       "      <td>1028.15</td>\n",
       "      <td>6116855</td>\n",
       "      <td>6.289073e+09</td>\n",
       "      <td>160947</td>\n",
       "      <td>2912662</td>\n",
       "      <td>47.62</td>\n",
       "    </tr>\n",
       "    <tr>\n",
       "      <th>4</th>\n",
       "      <td>RELIANCE</td>\n",
       "      <td>EQ</td>\n",
       "      <td>7-Jan-16</td>\n",
       "      <td>1032.20</td>\n",
       "      <td>1021.05</td>\n",
       "      <td>1028.0</td>\n",
       "      <td>1008.05</td>\n",
       "      <td>1018.9</td>\n",
       "      <td>1013.25</td>\n",
       "      <td>1016.73</td>\n",
       "      <td>4512219</td>\n",
       "      <td>4.587700e+09</td>\n",
       "      <td>105075</td>\n",
       "      <td>2474491</td>\n",
       "      <td>54.84</td>\n",
       "    </tr>\n",
       "    <tr>\n",
       "      <th>...</th>\n",
       "      <td>...</td>\n",
       "      <td>...</td>\n",
       "      <td>...</td>\n",
       "      <td>...</td>\n",
       "      <td>...</td>\n",
       "      <td>...</td>\n",
       "      <td>...</td>\n",
       "      <td>...</td>\n",
       "      <td>...</td>\n",
       "      <td>...</td>\n",
       "      <td>...</td>\n",
       "      <td>...</td>\n",
       "      <td>...</td>\n",
       "      <td>...</td>\n",
       "      <td>...</td>\n",
       "    </tr>\n",
       "    <tr>\n",
       "      <th>1319</th>\n",
       "      <td>RELIANCE</td>\n",
       "      <td>EQ</td>\n",
       "      <td>30-Apr-21</td>\n",
       "      <td>2024.05</td>\n",
       "      <td>2008.50</td>\n",
       "      <td>2036.0</td>\n",
       "      <td>1987.55</td>\n",
       "      <td>1995.9</td>\n",
       "      <td>1994.50</td>\n",
       "      <td>2010.20</td>\n",
       "      <td>9150974</td>\n",
       "      <td>1.839532e+10</td>\n",
       "      <td>288687</td>\n",
       "      <td>3902504</td>\n",
       "      <td>42.65</td>\n",
       "    </tr>\n",
       "    <tr>\n",
       "      <th>1320</th>\n",
       "      <td>RELIANCE</td>\n",
       "      <td>EQ</td>\n",
       "      <td>3-May-21</td>\n",
       "      <td>1994.50</td>\n",
       "      <td>1966.00</td>\n",
       "      <td>1979.0</td>\n",
       "      <td>1943.10</td>\n",
       "      <td>1956.0</td>\n",
       "      <td>1959.05</td>\n",
       "      <td>1958.46</td>\n",
       "      <td>10909942</td>\n",
       "      <td>2.136664e+10</td>\n",
       "      <td>343806</td>\n",
       "      <td>3800598</td>\n",
       "      <td>34.84</td>\n",
       "    </tr>\n",
       "    <tr>\n",
       "      <th>1321</th>\n",
       "      <td>RELIANCE</td>\n",
       "      <td>EQ</td>\n",
       "      <td>4-May-21</td>\n",
       "      <td>1959.05</td>\n",
       "      <td>1950.00</td>\n",
       "      <td>1967.8</td>\n",
       "      <td>1911.00</td>\n",
       "      <td>1918.0</td>\n",
       "      <td>1916.60</td>\n",
       "      <td>1935.83</td>\n",
       "      <td>10083693</td>\n",
       "      <td>1.952033e+10</td>\n",
       "      <td>325798</td>\n",
       "      <td>4435071</td>\n",
       "      <td>43.98</td>\n",
       "    </tr>\n",
       "    <tr>\n",
       "      <th>1322</th>\n",
       "      <td>RELIANCE</td>\n",
       "      <td>EQ</td>\n",
       "      <td>5-May-21</td>\n",
       "      <td>1916.60</td>\n",
       "      <td>1923.35</td>\n",
       "      <td>1938.5</td>\n",
       "      <td>1908.05</td>\n",
       "      <td>1921.5</td>\n",
       "      <td>1920.10</td>\n",
       "      <td>1923.26</td>\n",
       "      <td>5719649</td>\n",
       "      <td>1.100036e+10</td>\n",
       "      <td>190990</td>\n",
       "      <td>1762417</td>\n",
       "      <td>30.81</td>\n",
       "    </tr>\n",
       "    <tr>\n",
       "      <th>1323</th>\n",
       "      <td>RELIANCE</td>\n",
       "      <td>EQ</td>\n",
       "      <td>6-May-21</td>\n",
       "      <td>1920.10</td>\n",
       "      <td>1921.85</td>\n",
       "      <td>1935.0</td>\n",
       "      <td>1906.60</td>\n",
       "      <td>1932.0</td>\n",
       "      <td>1931.00</td>\n",
       "      <td>1920.95</td>\n",
       "      <td>6749281</td>\n",
       "      <td>1.296502e+10</td>\n",
       "      <td>221666</td>\n",
       "      <td>2830835</td>\n",
       "      <td>41.94</td>\n",
       "    </tr>\n",
       "  </tbody>\n",
       "</table>\n",
       "<p>1324 rows × 15 columns</p>\n",
       "</div>"
      ],
      "text/plain": [
       "        Symbol Series       Date  Prev Close  Open Price  High Price  \\\n",
       "0     RELIANCE     EQ   1-Jan-16     1014.60     1009.80      1018.9   \n",
       "1     RELIANCE     EQ   4-Jan-16     1015.35     1005.00      1013.8   \n",
       "2     RELIANCE     EQ   5-Jan-16      995.30     1000.30      1010.0   \n",
       "3     RELIANCE     EQ   6-Jan-16     1005.15     1007.60      1038.4   \n",
       "4     RELIANCE     EQ   7-Jan-16     1032.20     1021.05      1028.0   \n",
       "...        ...    ...        ...         ...         ...         ...   \n",
       "1319  RELIANCE     EQ  30-Apr-21     2024.05     2008.50      2036.0   \n",
       "1320  RELIANCE     EQ   3-May-21     1994.50     1966.00      1979.0   \n",
       "1321  RELIANCE     EQ   4-May-21     1959.05     1950.00      1967.8   \n",
       "1322  RELIANCE     EQ   5-May-21     1916.60     1923.35      1938.5   \n",
       "1323  RELIANCE     EQ   6-May-21     1920.10     1921.85      1935.0   \n",
       "\n",
       "      Low Price  Last Price  Close Price  Average Price  \\\n",
       "0       1008.20      1013.6      1015.35        1015.52   \n",
       "1        986.70       993.2       995.30         998.91   \n",
       "2        997.00      1005.0      1005.15        1003.41   \n",
       "3       1000.40      1029.1      1032.20        1028.15   \n",
       "4       1008.05      1018.9      1013.25        1016.73   \n",
       "...         ...         ...          ...            ...   \n",
       "1319    1987.55      1995.9      1994.50        2010.20   \n",
       "1320    1943.10      1956.0      1959.05        1958.46   \n",
       "1321    1911.00      1918.0      1916.60        1935.83   \n",
       "1322    1908.05      1921.5      1920.10        1923.26   \n",
       "1323    1906.60      1932.0      1931.00        1920.95   \n",
       "\n",
       "      Total Traded Quantity      Turnover  No. of Trades  Deliverable Qty  \\\n",
       "0                   1238135  1.257353e+09          30701           529539   \n",
       "1                   6896571  6.889070e+09          66235          4974602   \n",
       "2                   3416459  3.428125e+09          59935          1987804   \n",
       "3                   6116855  6.289073e+09         160947          2912662   \n",
       "4                   4512219  4.587700e+09         105075          2474491   \n",
       "...                     ...           ...            ...              ...   \n",
       "1319                9150974  1.839532e+10         288687          3902504   \n",
       "1320               10909942  2.136664e+10         343806          3800598   \n",
       "1321               10083693  1.952033e+10         325798          4435071   \n",
       "1322                5719649  1.100036e+10         190990          1762417   \n",
       "1323                6749281  1.296502e+10         221666          2830835   \n",
       "\n",
       "      % Dly Qt to Traded Qty  \n",
       "0                      42.77  \n",
       "1                      72.13  \n",
       "2                      58.18  \n",
       "3                      47.62  \n",
       "4                      54.84  \n",
       "...                      ...  \n",
       "1319                   42.65  \n",
       "1320                   34.84  \n",
       "1321                   43.98  \n",
       "1322                   30.81  \n",
       "1323                   41.94  \n",
       "\n",
       "[1324 rows x 15 columns]"
      ]
     },
     "execution_count": 4,
     "metadata": {},
     "output_type": "execute_result"
    }
   ],
   "source": [
    "stock=pd.read_csv('RIL Stock Price.csv')\n",
    "stock"
   ]
  },
  {
   "cell_type": "code",
   "execution_count": 5,
   "metadata": {
    "colab": {
     "base_uri": "https://localhost:8080/"
    },
    "id": "AEOVN7SNqECK",
    "outputId": "b8f59533-d86a-40ee-ea7d-883fa1870aef"
   },
   "outputs": [
    {
     "data": {
      "text/plain": [
       "Index(['Symbol', 'Series', 'Date', 'Prev Close', 'Open Price', 'High Price',\n",
       "       'Low Price', 'Last Price', 'Close Price', 'Average Price',\n",
       "       'Total Traded Quantity', 'Turnover', 'No. of Trades', 'Deliverable Qty',\n",
       "       '% Dly Qt to Traded Qty'],\n",
       "      dtype='object')"
      ]
     },
     "execution_count": 5,
     "metadata": {},
     "output_type": "execute_result"
    }
   ],
   "source": [
    "stock.columns"
   ]
  },
  {
   "cell_type": "code",
   "execution_count": 6,
   "metadata": {
    "colab": {
     "base_uri": "https://localhost:8080/",
     "height": 424
    },
    "id": "ZzY-bWQDpuT0",
    "outputId": "5cd1b122-26f1-411a-fb69-01b008f896f0"
   },
   "outputs": [
    {
     "data": {
      "text/html": [
       "<div>\n",
       "<style scoped>\n",
       "    .dataframe tbody tr th:only-of-type {\n",
       "        vertical-align: middle;\n",
       "    }\n",
       "\n",
       "    .dataframe tbody tr th {\n",
       "        vertical-align: top;\n",
       "    }\n",
       "\n",
       "    .dataframe thead th {\n",
       "        text-align: right;\n",
       "    }\n",
       "</style>\n",
       "<table border=\"1\" class=\"dataframe\">\n",
       "  <thead>\n",
       "    <tr style=\"text-align: right;\">\n",
       "      <th></th>\n",
       "      <th>Close</th>\n",
       "      <th>Trades</th>\n",
       "    </tr>\n",
       "  </thead>\n",
       "  <tbody>\n",
       "    <tr>\n",
       "      <th>0</th>\n",
       "      <td>1015.35</td>\n",
       "      <td>30701</td>\n",
       "    </tr>\n",
       "    <tr>\n",
       "      <th>1</th>\n",
       "      <td>995.30</td>\n",
       "      <td>66235</td>\n",
       "    </tr>\n",
       "    <tr>\n",
       "      <th>2</th>\n",
       "      <td>1005.15</td>\n",
       "      <td>59935</td>\n",
       "    </tr>\n",
       "    <tr>\n",
       "      <th>3</th>\n",
       "      <td>1032.20</td>\n",
       "      <td>160947</td>\n",
       "    </tr>\n",
       "    <tr>\n",
       "      <th>4</th>\n",
       "      <td>1013.25</td>\n",
       "      <td>105075</td>\n",
       "    </tr>\n",
       "    <tr>\n",
       "      <th>...</th>\n",
       "      <td>...</td>\n",
       "      <td>...</td>\n",
       "    </tr>\n",
       "    <tr>\n",
       "      <th>1319</th>\n",
       "      <td>1994.50</td>\n",
       "      <td>288687</td>\n",
       "    </tr>\n",
       "    <tr>\n",
       "      <th>1320</th>\n",
       "      <td>1959.05</td>\n",
       "      <td>343806</td>\n",
       "    </tr>\n",
       "    <tr>\n",
       "      <th>1321</th>\n",
       "      <td>1916.60</td>\n",
       "      <td>325798</td>\n",
       "    </tr>\n",
       "    <tr>\n",
       "      <th>1322</th>\n",
       "      <td>1920.10</td>\n",
       "      <td>190990</td>\n",
       "    </tr>\n",
       "    <tr>\n",
       "      <th>1323</th>\n",
       "      <td>1931.00</td>\n",
       "      <td>221666</td>\n",
       "    </tr>\n",
       "  </tbody>\n",
       "</table>\n",
       "<p>1324 rows × 2 columns</p>\n",
       "</div>"
      ],
      "text/plain": [
       "        Close  Trades\n",
       "0     1015.35   30701\n",
       "1      995.30   66235\n",
       "2     1005.15   59935\n",
       "3     1032.20  160947\n",
       "4     1013.25  105075\n",
       "...       ...     ...\n",
       "1319  1994.50  288687\n",
       "1320  1959.05  343806\n",
       "1321  1916.60  325798\n",
       "1322  1920.10  190990\n",
       "1323  1931.00  221666\n",
       "\n",
       "[1324 rows x 2 columns]"
      ]
     },
     "execution_count": 6,
     "metadata": {},
     "output_type": "execute_result"
    }
   ],
   "source": [
    "df=pd.DataFrame({'Close':stock['Close Price'],'Trades':stock['No. of Trades']})\n",
    "df"
   ]
  },
  {
   "cell_type": "code",
   "execution_count": 7,
   "metadata": {},
   "outputs": [
    {
     "data": {
      "text/html": [
       "<div>\n",
       "<style scoped>\n",
       "    .dataframe tbody tr th:only-of-type {\n",
       "        vertical-align: middle;\n",
       "    }\n",
       "\n",
       "    .dataframe tbody tr th {\n",
       "        vertical-align: top;\n",
       "    }\n",
       "\n",
       "    .dataframe thead th {\n",
       "        text-align: right;\n",
       "    }\n",
       "</style>\n",
       "<table border=\"1\" class=\"dataframe\">\n",
       "  <thead>\n",
       "    <tr style=\"text-align: right;\">\n",
       "      <th></th>\n",
       "      <th>Close</th>\n",
       "      <th>Trades</th>\n",
       "    </tr>\n",
       "  </thead>\n",
       "  <tbody>\n",
       "    <tr>\n",
       "      <th>3</th>\n",
       "      <td>1032.20</td>\n",
       "      <td>160947</td>\n",
       "    </tr>\n",
       "    <tr>\n",
       "      <th>4</th>\n",
       "      <td>1013.25</td>\n",
       "      <td>105075</td>\n",
       "    </tr>\n",
       "    <tr>\n",
       "      <th>5</th>\n",
       "      <td>1025.75</td>\n",
       "      <td>176664</td>\n",
       "    </tr>\n",
       "    <tr>\n",
       "      <th>6</th>\n",
       "      <td>1051.60</td>\n",
       "      <td>135818</td>\n",
       "    </tr>\n",
       "    <tr>\n",
       "      <th>7</th>\n",
       "      <td>1045.45</td>\n",
       "      <td>143685</td>\n",
       "    </tr>\n",
       "    <tr>\n",
       "      <th>...</th>\n",
       "      <td>...</td>\n",
       "      <td>...</td>\n",
       "    </tr>\n",
       "    <tr>\n",
       "      <th>1319</th>\n",
       "      <td>1994.50</td>\n",
       "      <td>288687</td>\n",
       "    </tr>\n",
       "    <tr>\n",
       "      <th>1320</th>\n",
       "      <td>1959.05</td>\n",
       "      <td>343806</td>\n",
       "    </tr>\n",
       "    <tr>\n",
       "      <th>1321</th>\n",
       "      <td>1916.60</td>\n",
       "      <td>325798</td>\n",
       "    </tr>\n",
       "    <tr>\n",
       "      <th>1322</th>\n",
       "      <td>1920.10</td>\n",
       "      <td>190990</td>\n",
       "    </tr>\n",
       "    <tr>\n",
       "      <th>1323</th>\n",
       "      <td>1931.00</td>\n",
       "      <td>221666</td>\n",
       "    </tr>\n",
       "  </tbody>\n",
       "</table>\n",
       "<p>942 rows × 2 columns</p>\n",
       "</div>"
      ],
      "text/plain": [
       "        Close  Trades\n",
       "3     1032.20  160947\n",
       "4     1013.25  105075\n",
       "5     1025.75  176664\n",
       "6     1051.60  135818\n",
       "7     1045.45  143685\n",
       "...       ...     ...\n",
       "1319  1994.50  288687\n",
       "1320  1959.05  343806\n",
       "1321  1916.60  325798\n",
       "1322  1920.10  190990\n",
       "1323  1931.00  221666\n",
       "\n",
       "[942 rows x 2 columns]"
      ]
     },
     "execution_count": 7,
     "metadata": {},
     "output_type": "execute_result"
    }
   ],
   "source": [
    "dfTest = df[df['Trades']>100000]\n",
    "dfTest"
   ]
  },
  {
   "cell_type": "code",
   "execution_count": 8,
   "metadata": {
    "colab": {
     "base_uri": "https://localhost:8080/",
     "height": 175
    },
    "id": "rni5FvpQrB4A",
    "outputId": "e63b05f9-af85-4db8-b57b-cdddc29f10b9"
   },
   "outputs": [
    {
     "data": {
      "text/plain": [
       "Close       1401.256051\n",
       "Trades    246092.899151\n",
       "dtype: float64"
      ]
     },
     "execution_count": 8,
     "metadata": {},
     "output_type": "execute_result"
    }
   ],
   "source": [
    "df[df['Trades']>100000].mean()"
   ]
  },
  {
   "cell_type": "markdown",
   "metadata": {
    "id": "SuVUTUCer8EV"
   },
   "source": [
    "# Hypothesis testing"
   ]
  },
  {
   "cell_type": "markdown",
   "metadata": {
    "id": "Hm1lCNIErUxU"
   },
   "source": [
    "### H0: For trades>100000, the avg close price is less than or equal to 1400 INR.\n",
    "### H1: For trades>100000, the avg close price is more 1400 INR."
   ]
  },
  {
   "cell_type": "code",
   "execution_count": 9,
   "metadata": {
    "colab": {
     "base_uri": "https://localhost:8080/",
     "height": 424
    },
    "id": "5kbFdoxMr2t7",
    "outputId": "da6cb403-dfe8-4d7e-d9fa-7f33284162a9"
   },
   "outputs": [
    {
     "data": {
      "text/html": [
       "<div>\n",
       "<style scoped>\n",
       "    .dataframe tbody tr th:only-of-type {\n",
       "        vertical-align: middle;\n",
       "    }\n",
       "\n",
       "    .dataframe tbody tr th {\n",
       "        vertical-align: top;\n",
       "    }\n",
       "\n",
       "    .dataframe thead th {\n",
       "        text-align: right;\n",
       "    }\n",
       "</style>\n",
       "<table border=\"1\" class=\"dataframe\">\n",
       "  <thead>\n",
       "    <tr style=\"text-align: right;\">\n",
       "      <th></th>\n",
       "      <th>Close</th>\n",
       "      <th>Trades</th>\n",
       "    </tr>\n",
       "  </thead>\n",
       "  <tbody>\n",
       "    <tr>\n",
       "      <th>297</th>\n",
       "      <td>1297.65</td>\n",
       "      <td>101204</td>\n",
       "    </tr>\n",
       "    <tr>\n",
       "      <th>802</th>\n",
       "      <td>1349.25</td>\n",
       "      <td>171701</td>\n",
       "    </tr>\n",
       "    <tr>\n",
       "      <th>1207</th>\n",
       "      <td>1996.40</td>\n",
       "      <td>507695</td>\n",
       "    </tr>\n",
       "    <tr>\n",
       "      <th>1040</th>\n",
       "      <td>1015.70</td>\n",
       "      <td>441083</td>\n",
       "    </tr>\n",
       "    <tr>\n",
       "      <th>671</th>\n",
       "      <td>1253.15</td>\n",
       "      <td>171172</td>\n",
       "    </tr>\n",
       "    <tr>\n",
       "      <th>...</th>\n",
       "      <td>...</td>\n",
       "      <td>...</td>\n",
       "    </tr>\n",
       "    <tr>\n",
       "      <th>881</th>\n",
       "      <td>1273.55</td>\n",
       "      <td>231082</td>\n",
       "    </tr>\n",
       "    <tr>\n",
       "      <th>1174</th>\n",
       "      <td>2216.25</td>\n",
       "      <td>213955</td>\n",
       "    </tr>\n",
       "    <tr>\n",
       "      <th>1106</th>\n",
       "      <td>1727.85</td>\n",
       "      <td>488048</td>\n",
       "    </tr>\n",
       "    <tr>\n",
       "      <th>799</th>\n",
       "      <td>1341.75</td>\n",
       "      <td>216597</td>\n",
       "    </tr>\n",
       "    <tr>\n",
       "      <th>732</th>\n",
       "      <td>1129.90</td>\n",
       "      <td>123031</td>\n",
       "    </tr>\n",
       "  </tbody>\n",
       "</table>\n",
       "<p>300 rows × 2 columns</p>\n",
       "</div>"
      ],
      "text/plain": [
       "        Close  Trades\n",
       "297   1297.65  101204\n",
       "802   1349.25  171701\n",
       "1207  1996.40  507695\n",
       "1040  1015.70  441083\n",
       "671   1253.15  171172\n",
       "...       ...     ...\n",
       "881   1273.55  231082\n",
       "1174  2216.25  213955\n",
       "1106  1727.85  488048\n",
       "799   1341.75  216597\n",
       "732   1129.90  123031\n",
       "\n",
       "[300 rows x 2 columns]"
      ]
     },
     "execution_count": 9,
     "metadata": {},
     "output_type": "execute_result"
    }
   ],
   "source": [
    "sample=dfTest.sample(300)\n",
    "sample"
   ]
  },
  {
   "cell_type": "code",
   "execution_count": 10,
   "metadata": {
    "id": "3wmq7FWMsktb"
   },
   "outputs": [
    {
     "data": {
      "text/plain": [
       "1422.2711666666667"
      ]
     },
     "execution_count": 10,
     "metadata": {},
     "output_type": "execute_result"
    }
   ],
   "source": [
    "sample.Close.mean()"
   ]
  },
  {
   "cell_type": "markdown",
   "metadata": {
    "id": "-OH-l8Uis8-S"
   },
   "source": [
    "## z test"
   ]
  },
  {
   "cell_type": "code",
   "execution_count": 11,
   "metadata": {
    "colab": {
     "base_uri": "https://localhost:8080/"
    },
    "id": "0119moJNtgrd",
    "outputId": "6bf921e6-36fd-44b3-9279-fd265940f3df"
   },
   "outputs": [
    {
     "data": {
      "text/plain": [
       "393.9543927626295"
      ]
     },
     "execution_count": 11,
     "metadata": {},
     "output_type": "execute_result"
    }
   ],
   "source": [
    "#standard deviation of the population\n",
    "sd=np.std(sample['Close'])\n",
    "sd"
   ]
  },
  {
   "cell_type": "code",
   "execution_count": 12,
   "metadata": {
    "colab": {
     "base_uri": "https://localhost:8080/"
    },
    "id": "9NW_OavM1GJZ",
    "outputId": "70307e4e-7b9b-4b16-eaa3-bf07afd02738"
   },
   "outputs": [
    {
     "data": {
      "text/plain": [
       "Close        394.612629\n",
       "Trades    161492.666292\n",
       "dtype: float64"
      ]
     },
     "execution_count": 12,
     "metadata": {},
     "output_type": "execute_result"
    }
   ],
   "source": [
    "sample.std()"
   ]
  },
  {
   "cell_type": "code",
   "execution_count": 13,
   "metadata": {
    "id": "3L5SpnNys4Bk"
   },
   "outputs": [],
   "source": [
    "xbar=sample.Close.mean()\n",
    "mu=dfTest.Close.mean()\n",
    "n=300 #sample size\n",
    "alpha=0.05"
   ]
  },
  {
   "cell_type": "code",
   "execution_count": 14,
   "metadata": {
    "colab": {
     "base_uri": "https://localhost:8080/"
    },
    "id": "TWpySoh60KNo",
    "outputId": "756a587e-29fe-4ef5-e6ab-ae10db633154"
   },
   "outputs": [
    {
     "data": {
      "text/plain": [
       "1422.2711666666667"
      ]
     },
     "execution_count": 14,
     "metadata": {},
     "output_type": "execute_result"
    }
   ],
   "source": [
    "xbar"
   ]
  },
  {
   "cell_type": "code",
   "execution_count": 15,
   "metadata": {},
   "outputs": [
    {
     "data": {
      "text/plain": [
       "1401.2560509554157"
      ]
     },
     "execution_count": 15,
     "metadata": {},
     "output_type": "execute_result"
    }
   ],
   "source": [
    "mu"
   ]
  },
  {
   "cell_type": "code",
   "execution_count": 16,
   "metadata": {
    "colab": {
     "base_uri": "https://localhost:8080/"
    },
    "id": "g31jZlU6uijj",
    "outputId": "eb17c549-8c1c-4376-caca-737708ea5ee8"
   },
   "outputs": [
    {
     "data": {
      "text/plain": [
       "0.9239457360425303"
      ]
     },
     "execution_count": 16,
     "metadata": {},
     "output_type": "execute_result"
    }
   ],
   "source": [
    "zvalue=(xbar-mu)/(sd/np.sqrt(n))\n",
    "zvalue"
   ]
  },
  {
   "cell_type": "code",
   "execution_count": 17,
   "metadata": {
    "colab": {
     "base_uri": "https://localhost:8080/"
    },
    "id": "sx26xduBvJjj",
    "outputId": "eeb8f646-1b5b-4998-baed-02747c92648b"
   },
   "outputs": [
    {
     "data": {
      "text/plain": [
       "-1.6448536269514729"
      ]
     },
     "execution_count": 17,
     "metadata": {},
     "output_type": "execute_result"
    }
   ],
   "source": [
    "z_critical = st.norm.ppf(alpha)  #One tail Test\n",
    "z_critical"
   ]
  },
  {
   "cell_type": "code",
   "execution_count": 18,
   "metadata": {
    "colab": {
     "base_uri": "https://localhost:8080/"
    },
    "id": "iwDMMiU_v6fZ",
    "outputId": "f304d2f9-e0ff-49c5-f628-371141a79b0b"
   },
   "outputs": [
    {
     "name": "stdout",
     "output_type": "stream",
     "text": [
      "Fail to reject Null Hypothesis\n"
     ]
    }
   ],
   "source": [
    "if (zvalue<z_critical and abs(zvalue)> abs(z_critical)):\n",
    "  print(\"Reject Null Hypotheisis\")\n",
    "else:\n",
    "  print(\"Fail to reject Null Hypothesis\")"
   ]
  },
  {
   "cell_type": "markdown",
   "metadata": {
    "id": "eIE-1KUfzEsG"
   },
   "source": [
    "## Test using p value"
   ]
  },
  {
   "cell_type": "code",
   "execution_count": 19,
   "metadata": {
    "colab": {
     "base_uri": "https://localhost:8080/"
    },
    "id": "jGa_T8KKyfGW",
    "outputId": "c16af9b8-7a14-49c8-aba8-a4b5bc1c7ae4"
   },
   "outputs": [
    {
     "data": {
      "text/plain": [
       "0.17775728448826378"
      ]
     },
     "execution_count": 19,
     "metadata": {},
     "output_type": "execute_result"
    }
   ],
   "source": [
    "p_val = (1 - st.norm.cdf(abs(zvalue)))\n",
    "p_val"
   ]
  },
  {
   "cell_type": "code",
   "execution_count": 20,
   "metadata": {
    "colab": {
     "base_uri": "https://localhost:8080/"
    },
    "id": "1rK0k4kCy1DW",
    "outputId": "923c285d-4321-433c-c838-2423ee7336ef"
   },
   "outputs": [
    {
     "name": "stdout",
     "output_type": "stream",
     "text": [
      "Fail to reject Null Hypothesis\n"
     ]
    }
   ],
   "source": [
    "#comparing with alpha value\n",
    "if p_val<alpha:\n",
    "  print(\"Reject Null Hypotheisis\")\n",
    "else:\n",
    "  print(\"Fail to reject Null Hypothesis\")"
   ]
  },
  {
   "cell_type": "markdown",
   "metadata": {
    "id": "dmkISVxSwqU8"
   },
   "source": [
    "### Hence for trades>100000, the avg price is less than 1400INR, i.e, we fail to reject the Null Hypothesis"
   ]
  },
  {
   "cell_type": "markdown",
   "metadata": {
    "id": "Q8GSIuZgza6C"
   },
   "source": [
    "## T test"
   ]
  },
  {
   "cell_type": "code",
   "execution_count": 21,
   "metadata": {
    "colab": {
     "base_uri": "https://localhost:8080/",
     "height": 833
    },
    "id": "tLEWlBXQ1Z3c",
    "outputId": "adeb23b4-3e90-41c0-9ddb-de943f5c8c85"
   },
   "outputs": [
    {
     "data": {
      "text/html": [
       "<div>\n",
       "<style scoped>\n",
       "    .dataframe tbody tr th:only-of-type {\n",
       "        vertical-align: middle;\n",
       "    }\n",
       "\n",
       "    .dataframe tbody tr th {\n",
       "        vertical-align: top;\n",
       "    }\n",
       "\n",
       "    .dataframe thead th {\n",
       "        text-align: right;\n",
       "    }\n",
       "</style>\n",
       "<table border=\"1\" class=\"dataframe\">\n",
       "  <thead>\n",
       "    <tr style=\"text-align: right;\">\n",
       "      <th></th>\n",
       "      <th>Close</th>\n",
       "      <th>Trades</th>\n",
       "    </tr>\n",
       "  </thead>\n",
       "  <tbody>\n",
       "    <tr>\n",
       "      <th>623</th>\n",
       "      <td>964.50</td>\n",
       "      <td>309468</td>\n",
       "    </tr>\n",
       "    <tr>\n",
       "      <th>823</th>\n",
       "      <td>1392.80</td>\n",
       "      <td>210909</td>\n",
       "    </tr>\n",
       "    <tr>\n",
       "      <th>582</th>\n",
       "      <td>976.70</td>\n",
       "      <td>96826</td>\n",
       "    </tr>\n",
       "    <tr>\n",
       "      <th>632</th>\n",
       "      <td>1092.55</td>\n",
       "      <td>110961</td>\n",
       "    </tr>\n",
       "    <tr>\n",
       "      <th>622</th>\n",
       "      <td>990.10</td>\n",
       "      <td>114594</td>\n",
       "    </tr>\n",
       "    <tr>\n",
       "      <th>283</th>\n",
       "      <td>1207.50</td>\n",
       "      <td>529232</td>\n",
       "    </tr>\n",
       "    <tr>\n",
       "      <th>1215</th>\n",
       "      <td>1947.80</td>\n",
       "      <td>356793</td>\n",
       "    </tr>\n",
       "    <tr>\n",
       "      <th>44</th>\n",
       "      <td>1006.40</td>\n",
       "      <td>51720</td>\n",
       "    </tr>\n",
       "    <tr>\n",
       "      <th>355</th>\n",
       "      <td>1331.70</td>\n",
       "      <td>61841</td>\n",
       "    </tr>\n",
       "    <tr>\n",
       "      <th>957</th>\n",
       "      <td>1459.20</td>\n",
       "      <td>128242</td>\n",
       "    </tr>\n",
       "    <tr>\n",
       "      <th>308</th>\n",
       "      <td>1270.65</td>\n",
       "      <td>113795</td>\n",
       "    </tr>\n",
       "    <tr>\n",
       "      <th>394</th>\n",
       "      <td>1650.10</td>\n",
       "      <td>100320</td>\n",
       "    </tr>\n",
       "    <tr>\n",
       "      <th>399</th>\n",
       "      <td>1584.35</td>\n",
       "      <td>82027</td>\n",
       "    </tr>\n",
       "    <tr>\n",
       "      <th>184</th>\n",
       "      <td>1083.70</td>\n",
       "      <td>97669</td>\n",
       "    </tr>\n",
       "    <tr>\n",
       "      <th>1190</th>\n",
       "      <td>2124.60</td>\n",
       "      <td>399065</td>\n",
       "    </tr>\n",
       "    <tr>\n",
       "      <th>1187</th>\n",
       "      <td>2175.80</td>\n",
       "      <td>287579</td>\n",
       "    </tr>\n",
       "    <tr>\n",
       "      <th>350</th>\n",
       "      <td>1328.25</td>\n",
       "      <td>79314</td>\n",
       "    </tr>\n",
       "    <tr>\n",
       "      <th>663</th>\n",
       "      <td>1229.15</td>\n",
       "      <td>210884</td>\n",
       "    </tr>\n",
       "    <tr>\n",
       "      <th>681</th>\n",
       "      <td>1231.70</td>\n",
       "      <td>186000</td>\n",
       "    </tr>\n",
       "    <tr>\n",
       "      <th>270</th>\n",
       "      <td>1033.65</td>\n",
       "      <td>48459</td>\n",
       "    </tr>\n",
       "    <tr>\n",
       "      <th>705</th>\n",
       "      <td>1104.10</td>\n",
       "      <td>156053</td>\n",
       "    </tr>\n",
       "    <tr>\n",
       "      <th>10</th>\n",
       "      <td>1073.30</td>\n",
       "      <td>136461</td>\n",
       "    </tr>\n",
       "    <tr>\n",
       "      <th>498</th>\n",
       "      <td>914.80</td>\n",
       "      <td>101162</td>\n",
       "    </tr>\n",
       "    <tr>\n",
       "      <th>1074</th>\n",
       "      <td>1561.80</td>\n",
       "      <td>727915</td>\n",
       "    </tr>\n",
       "    <tr>\n",
       "      <th>246</th>\n",
       "      <td>1082.40</td>\n",
       "      <td>71421</td>\n",
       "    </tr>\n",
       "  </tbody>\n",
       "</table>\n",
       "</div>"
      ],
      "text/plain": [
       "        Close  Trades\n",
       "623    964.50  309468\n",
       "823   1392.80  210909\n",
       "582    976.70   96826\n",
       "632   1092.55  110961\n",
       "622    990.10  114594\n",
       "283   1207.50  529232\n",
       "1215  1947.80  356793\n",
       "44    1006.40   51720\n",
       "355   1331.70   61841\n",
       "957   1459.20  128242\n",
       "308   1270.65  113795\n",
       "394   1650.10  100320\n",
       "399   1584.35   82027\n",
       "184   1083.70   97669\n",
       "1190  2124.60  399065\n",
       "1187  2175.80  287579\n",
       "350   1328.25   79314\n",
       "663   1229.15  210884\n",
       "681   1231.70  186000\n",
       "270   1033.65   48459\n",
       "705   1104.10  156053\n",
       "10    1073.30  136461\n",
       "498    914.80  101162\n",
       "1074  1561.80  727915\n",
       "246   1082.40   71421"
      ]
     },
     "execution_count": 21,
     "metadata": {},
     "output_type": "execute_result"
    }
   ],
   "source": [
    "tsample=df.sample(25)\n",
    "tsample"
   ]
  },
  {
   "cell_type": "code",
   "execution_count": 22,
   "metadata": {
    "colab": {
     "base_uri": "https://localhost:8080/"
    },
    "id": "F6A-vB1F11XR",
    "outputId": "424575a0-fea1-48c4-823c-b17da6590ac9"
   },
   "outputs": [
    {
     "data": {
      "text/plain": [
       "348.4256514437478"
      ]
     },
     "execution_count": 22,
     "metadata": {},
     "output_type": "execute_result"
    }
   ],
   "source": [
    "t_sd=np.std(tsample['Close'])\n",
    "t_sd"
   ]
  },
  {
   "cell_type": "code",
   "execution_count": 28,
   "metadata": {
    "colab": {
     "base_uri": "https://localhost:8080/"
    },
    "id": "YJh7kVv11Xdv",
    "outputId": "7f7759d7-dbf1-4399-9af2-71e508eb2784"
   },
   "outputs": [],
   "source": [
    "xbar=tsample.Close.mean()\n",
    "mu=dfTest.Close.mean()\n",
    "n=25 #sample size\n",
    "alpha=0.05"
   ]
  },
  {
   "cell_type": "code",
   "execution_count": 29,
   "metadata": {},
   "outputs": [
    {
     "name": "stdout",
     "output_type": "stream",
     "text": [
      "xbar : 1312.704\n",
      "mu : 1401.2560509554157\n"
     ]
    }
   ],
   "source": [
    "print('xbar :', xbar)\n",
    "print('mu :', mu)"
   ]
  },
  {
   "cell_type": "code",
   "execution_count": 30,
   "metadata": {
    "colab": {
     "base_uri": "https://localhost:8080/"
    },
    "id": "AakDDIBlzaRY",
    "outputId": "38948655-d90a-4def-c704-a86a8973f3bf"
   },
   "outputs": [
    {
     "data": {
      "text/plain": [
       "-1.2707452879615584"
      ]
     },
     "execution_count": 30,
     "metadata": {},
     "output_type": "execute_result"
    }
   ],
   "source": [
    "n = 25\n",
    "degrees_of_freedom = n-1\n",
    "t = (xbar - mu)/(t_sd / np.sqrt(n))\n",
    "t"
   ]
  },
  {
   "cell_type": "code",
   "execution_count": 31,
   "metadata": {
    "colab": {
     "base_uri": "https://localhost:8080/"
    },
    "id": "3RRYXOaB2ZLH",
    "outputId": "7fc05461-724a-4826-a0a5-1039d37ed675"
   },
   "outputs": [
    {
     "data": {
      "text/plain": [
       "-1.7108820799094282"
      ]
     },
     "execution_count": 31,
     "metadata": {},
     "output_type": "execute_result"
    }
   ],
   "source": [
    "t_critical = st.t.ppf(alpha, degrees_of_freedom)\n",
    "t_critical"
   ]
  },
  {
   "cell_type": "code",
   "execution_count": 32,
   "metadata": {
    "colab": {
     "base_uri": "https://localhost:8080/"
    },
    "id": "JJRp-I1i2hZV",
    "outputId": "54e289eb-a45c-42d5-a679-ee1b4583a431"
   },
   "outputs": [
    {
     "name": "stdout",
     "output_type": "stream",
     "text": [
      "Null hypothesis cannot be rejected\n"
     ]
    }
   ],
   "source": [
    "if (t > t_critical):\n",
    "    print(\"Null hypothesis cannot be rejected\")\n",
    "else:\n",
    "    print(\"Reject null hypothesis\")"
   ]
  },
  {
   "cell_type": "markdown",
   "metadata": {
    "id": "fI-70j2v28eX"
   },
   "source": [
    "### Both Z test and T test suggest the same ie., The Null Hypothesis cannot be rejected."
   ]
  }
 ],
 "metadata": {
  "colab": {
   "collapsed_sections": [
    "SuVUTUCer8EV",
    "-OH-l8Uis8-S",
    "Q8GSIuZgza6C"
   ],
   "provenance": []
  },
  "kernelspec": {
   "display_name": "Python 3 (ipykernel)",
   "language": "python",
   "name": "python3"
  },
  "language_info": {
   "codemirror_mode": {
    "name": "ipython",
    "version": 3
   },
   "file_extension": ".py",
   "mimetype": "text/x-python",
   "name": "python",
   "nbconvert_exporter": "python",
   "pygments_lexer": "ipython3",
   "version": "3.9.12"
  }
 },
 "nbformat": 4,
 "nbformat_minor": 4
}
