{
 "cells": [
  {
   "cell_type": "markdown",
   "id": "e01fca64-729a-40ed-a25e-67dcad910f0e",
   "metadata": {},
   "source": [
    "# Evaluation-2 (FoDS)\n",
    "- Name : Aravind S\n",
    "- Roll : CB.EN.U4CSE20208"
   ]
  },
  {
   "cell_type": "code",
   "execution_count": 42,
   "id": "83ac4254-4d69-4167-9721-f4a1f5bf1790",
   "metadata": {},
   "outputs": [],
   "source": [
    "import pandas as pd\n",
    "import numpy as np\n",
    "import scipy.stats as st\n",
    "import matplotlib.pyplot as plt"
   ]
  },
  {
   "cell_type": "markdown",
   "id": "6006f1e6-4a42-4862-a72b-91182afdf610",
   "metadata": {},
   "source": [
    "## Part A"
   ]
  },
  {
   "cell_type": "markdown",
   "id": "761aeb79-c3f7-4c1c-8a63-9a29ac7276c2",
   "metadata": {},
   "source": [
    "#### Question-1\n",
    "- Null Hypothesis (H0) : Mendal claims that for any given random sample, the ratio of purple to white flowers is 3:1\n",
    "- Alternate Hypothese (Ha) : For a given sample, the ratio of puple to white flowers is not 3:1"
   ]
  },
  {
   "cell_type": "markdown",
   "id": "2a4e7539-b9f2-4211-afc0-04cba943e67a",
   "metadata": {},
   "source": [
    "#### Question-2\n",
    "- I recommed taking the simulations for the given set sample and then checking if the outcome matches the claim, that is whether purple flowering % is around 75"
   ]
  },
  {
   "cell_type": "markdown",
   "id": "0f28cc23-478d-493f-b1ab-a7f239696f97",
   "metadata": {},
   "source": [
    "#### Question-3"
   ]
  },
  {
   "cell_type": "markdown",
   "id": "52cbcd1f-1dfd-499e-b548-5f9f0df3446c",
   "metadata": {},
   "source": [
    "Basic details\n",
    "- Roll No. = 208\n",
    "- Total No. of Purple flowers : (705+8) = 713\n",
    "- Total No. of White flowers : (929-713) = 216\n",
    "- Total No. of simulations to be perforemd = (2000-208) = 1792"
   ]
  },
  {
   "cell_type": "code",
   "execution_count": 15,
   "id": "8809a424-9e27-4edb-9ed1-c5dd1569294a",
   "metadata": {},
   "outputs": [
    {
     "data": {
      "text/plain": [
       "929"
      ]
     },
     "execution_count": 15,
     "metadata": {},
     "output_type": "execute_result"
    }
   ],
   "source": [
    "# creating the dataset\n",
    "arr = []\n",
    "\n",
    "for i in range(0,713):\n",
    "    arr.append('Purple')\n",
    "    \n",
    "for i in range(0,216):\n",
    "    arr.append('White')\n",
    "               \n",
    "len(arr)"
   ]
  },
  {
   "cell_type": "code",
   "execution_count": 21,
   "id": "963ec2d4-6243-4ae5-8cf5-73d9fb548836",
   "metadata": {},
   "outputs": [
    {
     "data": {
      "text/html": [
       "<div>\n",
       "<style scoped>\n",
       "    .dataframe tbody tr th:only-of-type {\n",
       "        vertical-align: middle;\n",
       "    }\n",
       "\n",
       "    .dataframe tbody tr th {\n",
       "        vertical-align: top;\n",
       "    }\n",
       "\n",
       "    .dataframe thead th {\n",
       "        text-align: right;\n",
       "    }\n",
       "</style>\n",
       "<table border=\"1\" class=\"dataframe\">\n",
       "  <thead>\n",
       "    <tr style=\"text-align: right;\">\n",
       "      <th></th>\n",
       "      <th>Flower</th>\n",
       "    </tr>\n",
       "  </thead>\n",
       "  <tbody>\n",
       "    <tr>\n",
       "      <th>0</th>\n",
       "      <td>Purple</td>\n",
       "    </tr>\n",
       "    <tr>\n",
       "      <th>1</th>\n",
       "      <td>Purple</td>\n",
       "    </tr>\n",
       "    <tr>\n",
       "      <th>2</th>\n",
       "      <td>Purple</td>\n",
       "    </tr>\n",
       "    <tr>\n",
       "      <th>3</th>\n",
       "      <td>Purple</td>\n",
       "    </tr>\n",
       "    <tr>\n",
       "      <th>4</th>\n",
       "      <td>Purple</td>\n",
       "    </tr>\n",
       "    <tr>\n",
       "      <th>...</th>\n",
       "      <td>...</td>\n",
       "    </tr>\n",
       "    <tr>\n",
       "      <th>924</th>\n",
       "      <td>White</td>\n",
       "    </tr>\n",
       "    <tr>\n",
       "      <th>925</th>\n",
       "      <td>White</td>\n",
       "    </tr>\n",
       "    <tr>\n",
       "      <th>926</th>\n",
       "      <td>White</td>\n",
       "    </tr>\n",
       "    <tr>\n",
       "      <th>927</th>\n",
       "      <td>White</td>\n",
       "    </tr>\n",
       "    <tr>\n",
       "      <th>928</th>\n",
       "      <td>White</td>\n",
       "    </tr>\n",
       "  </tbody>\n",
       "</table>\n",
       "<p>929 rows × 1 columns</p>\n",
       "</div>"
      ],
      "text/plain": [
       "     Flower\n",
       "0    Purple\n",
       "1    Purple\n",
       "2    Purple\n",
       "3    Purple\n",
       "4    Purple\n",
       "..      ...\n",
       "924   White\n",
       "925   White\n",
       "926   White\n",
       "927   White\n",
       "928   White\n",
       "\n",
       "[929 rows x 1 columns]"
      ]
     },
     "execution_count": 21,
     "metadata": {},
     "output_type": "execute_result"
    }
   ],
   "source": [
    "df = pd.DataFrame(arr, columns=[\"Flower\"])\n",
    "df"
   ]
  },
  {
   "cell_type": "code",
   "execution_count": 22,
   "id": "1f4b0c59-169c-4136-8271-e1a4c119ff48",
   "metadata": {},
   "outputs": [],
   "source": [
    "# taking random value, since it is not given\n",
    "random_sample_size = 100"
   ]
  },
  {
   "cell_type": "code",
   "execution_count": 35,
   "id": "ff24fe36-9185-4a59-a9ba-32b6db7a0f24",
   "metadata": {},
   "outputs": [],
   "source": [
    "no_of_simulations = 1792"
   ]
  },
  {
   "cell_type": "code",
   "execution_count": 30,
   "id": "922684f1-5a4e-4ec7-8be8-5cfd0bc28825",
   "metadata": {},
   "outputs": [
    {
     "data": {
      "text/plain": [
       "0      Purple\n",
       "1      Purple\n",
       "2      Purple\n",
       "3      Purple\n",
       "4      Purple\n",
       "        ...  \n",
       "924     White\n",
       "925     White\n",
       "926     White\n",
       "927     White\n",
       "928     White\n",
       "Name: Flower, Length: 929, dtype: object"
      ]
     },
     "execution_count": 30,
     "metadata": {},
     "output_type": "execute_result"
    }
   ],
   "source": [
    "flowers_only = df[\"Flower\"]\n",
    "flowers_only"
   ]
  },
  {
   "cell_type": "code",
   "execution_count": 32,
   "id": "261774cc-a124-4ba3-88ab-dd66229eb601",
   "metadata": {},
   "outputs": [
    {
     "data": {
      "text/plain": [
       "337    Purple\n",
       "48     Purple\n",
       "388    Purple\n",
       "548    Purple\n",
       "3      Purple\n",
       "        ...  \n",
       "149    Purple\n",
       "872     White\n",
       "862     White\n",
       "855     White\n",
       "810     White\n",
       "Name: Flower, Length: 100, dtype: object"
      ]
     },
     "execution_count": 32,
     "metadata": {},
     "output_type": "execute_result"
    }
   ],
   "source": [
    "# one simulation\n",
    "simulation1 = flowers_only.sample(n=100,replace=False)\n",
    "simulation1"
   ]
  },
  {
   "cell_type": "code",
   "execution_count": 33,
   "id": "9065f527-08a9-40b4-b4f2-f9cdbc8e40da",
   "metadata": {},
   "outputs": [],
   "source": [
    "def getCountInPercent(sampled):\n",
    "    purple, white = 0,0\n",
    "\n",
    "    for i in sampled:\n",
    "        if i == \"Purple\" :\n",
    "            purple+=1\n",
    "        else:\n",
    "            white+=1\n",
    "            \n",
    "    total = purple+white\n",
    "    p = (purple/total) * 100\n",
    "    w = (white/total) * 100\n",
    "            \n",
    "    return [p,w]"
   ]
  },
  {
   "cell_type": "code",
   "execution_count": 34,
   "id": "8abe37af-e004-4204-922a-72ae9cef84ff",
   "metadata": {},
   "outputs": [
    {
     "data": {
      "text/plain": [
       "[76.0, 24.0]"
      ]
     },
     "execution_count": 34,
     "metadata": {},
     "output_type": "execute_result"
    }
   ],
   "source": [
    "getCountInPercent(simulation1)"
   ]
  },
  {
   "cell_type": "code",
   "execution_count": 37,
   "id": "f62bfc92-917c-46f3-86c5-97cd59679ff6",
   "metadata": {},
   "outputs": [
    {
     "data": {
      "text/plain": [
       "[[76.0, 24.0],\n",
       " [79.0, 21.0],\n",
       " [78.0, 22.0],\n",
       " [76.0, 24.0],\n",
       " [78.0, 22.0],\n",
       " [84.0, 16.0],\n",
       " [81.0, 19.0],\n",
       " [76.0, 24.0],\n",
       " [75.0, 25.0],\n",
       " [73.0, 27.0]]"
      ]
     },
     "execution_count": 37,
     "metadata": {},
     "output_type": "execute_result"
    }
   ],
   "source": [
    "sample_simulations = []\n",
    "for i in range(no_of_simulations):\n",
    "    s = flowers_only.sample(n=100,replace=False)\n",
    "    li = getCountInPercent(s)\n",
    "    sample_simulations.append(li)\n",
    "    \n",
    "sample_simulations[:10]"
   ]
  },
  {
   "cell_type": "code",
   "execution_count": 40,
   "id": "08a1d947-b175-4179-8abc-b3995cf5eb0e",
   "metadata": {},
   "outputs": [
    {
     "data": {
      "text/html": [
       "<div>\n",
       "<style scoped>\n",
       "    .dataframe tbody tr th:only-of-type {\n",
       "        vertical-align: middle;\n",
       "    }\n",
       "\n",
       "    .dataframe tbody tr th {\n",
       "        vertical-align: top;\n",
       "    }\n",
       "\n",
       "    .dataframe thead th {\n",
       "        text-align: right;\n",
       "    }\n",
       "</style>\n",
       "<table border=\"1\" class=\"dataframe\">\n",
       "  <thead>\n",
       "    <tr style=\"text-align: right;\">\n",
       "      <th></th>\n",
       "      <th>Purple %</th>\n",
       "      <th>White %</th>\n",
       "    </tr>\n",
       "  </thead>\n",
       "  <tbody>\n",
       "    <tr>\n",
       "      <th>0</th>\n",
       "      <td>76.0</td>\n",
       "      <td>24.0</td>\n",
       "    </tr>\n",
       "    <tr>\n",
       "      <th>1</th>\n",
       "      <td>79.0</td>\n",
       "      <td>21.0</td>\n",
       "    </tr>\n",
       "    <tr>\n",
       "      <th>2</th>\n",
       "      <td>78.0</td>\n",
       "      <td>22.0</td>\n",
       "    </tr>\n",
       "    <tr>\n",
       "      <th>3</th>\n",
       "      <td>76.0</td>\n",
       "      <td>24.0</td>\n",
       "    </tr>\n",
       "    <tr>\n",
       "      <th>4</th>\n",
       "      <td>78.0</td>\n",
       "      <td>22.0</td>\n",
       "    </tr>\n",
       "    <tr>\n",
       "      <th>...</th>\n",
       "      <td>...</td>\n",
       "      <td>...</td>\n",
       "    </tr>\n",
       "    <tr>\n",
       "      <th>1787</th>\n",
       "      <td>80.0</td>\n",
       "      <td>20.0</td>\n",
       "    </tr>\n",
       "    <tr>\n",
       "      <th>1788</th>\n",
       "      <td>72.0</td>\n",
       "      <td>28.0</td>\n",
       "    </tr>\n",
       "    <tr>\n",
       "      <th>1789</th>\n",
       "      <td>72.0</td>\n",
       "      <td>28.0</td>\n",
       "    </tr>\n",
       "    <tr>\n",
       "      <th>1790</th>\n",
       "      <td>76.0</td>\n",
       "      <td>24.0</td>\n",
       "    </tr>\n",
       "    <tr>\n",
       "      <th>1791</th>\n",
       "      <td>81.0</td>\n",
       "      <td>19.0</td>\n",
       "    </tr>\n",
       "  </tbody>\n",
       "</table>\n",
       "<p>1792 rows × 2 columns</p>\n",
       "</div>"
      ],
      "text/plain": [
       "      Purple %  White %\n",
       "0         76.0     24.0\n",
       "1         79.0     21.0\n",
       "2         78.0     22.0\n",
       "3         76.0     24.0\n",
       "4         78.0     22.0\n",
       "...        ...      ...\n",
       "1787      80.0     20.0\n",
       "1788      72.0     28.0\n",
       "1789      72.0     28.0\n",
       "1790      76.0     24.0\n",
       "1791      81.0     19.0\n",
       "\n",
       "[1792 rows x 2 columns]"
      ]
     },
     "execution_count": 40,
     "metadata": {},
     "output_type": "execute_result"
    }
   ],
   "source": [
    "sample_simulations_df = pd.DataFrame(sample_simulations, columns = [\"Purple %\", \"White %\"])\n",
    "sample_simulations_df"
   ]
  },
  {
   "cell_type": "markdown",
   "id": "a06b4bf2-0b6c-40dc-af23-78419372d422",
   "metadata": {},
   "source": [
    "#### Question 5"
   ]
  },
  {
   "cell_type": "code",
   "execution_count": 43,
   "id": "51cd4067-06ba-4bf2-a784-cf60b2cd7922",
   "metadata": {},
   "outputs": [
    {
     "data": {
      "text/plain": [
       "<matplotlib.collections.PathCollection at 0x26180080e50>"
      ]
     },
     "execution_count": 43,
     "metadata": {},
     "output_type": "execute_result"
    },
    {
     "data": {
      "image/png": "[encoded data removed]",
      "text/plain": [
       "<Figure size 432x288 with 1 Axes>"
      ]
     },
     "metadata": {
      "needs_background": "light"
     },
     "output_type": "display_data"
    }
   ],
   "source": [
    "sample_simulations_df.hist(\"Purple %\")\n",
    "plt.scatter(75,0,color='red',s=30)"
   ]
  },
  {
   "cell_type": "markdown",
   "id": "b6819a31-b810-4a3a-b4cb-508fe8c2e09d",
   "metadata": {},
   "source": [
    "- this histogram depicts the number of times we get purple % for the given number of simulations\n",
    "- the red dot is the value that mendel predicts for purple flowers that is 75%"
   ]
  },
  {
   "cell_type": "markdown",
   "id": "02716d32-aa3e-4bd5-98d3-115db2ac5b6f",
   "metadata": {},
   "source": [
    "#### Question 6\n",
    "- Yes with this we can prove mendals hypothesis\n",
    "- that is we cannot reject mendal's hypothesis i.e the Null hypothesis since our observed red dot is with the significant are of the histogram"
   ]
  },
  {
   "cell_type": "markdown",
   "id": "036b6514-8e75-4333-9ae4-325e4901c139",
   "metadata": {},
   "source": [
    "## Part B (tTest using p-value method)"
   ]
  },
  {
   "cell_type": "code",
   "execution_count": 1,
   "id": "d51de95d-99de-4d50-a459-4d71de651ea5",
   "metadata": {},
   "outputs": [],
   "source": [
    "# H0 : mu = 60\n",
    "# Ha : mu != 60\n",
    "n = 30\n",
    "dof = n-1\n",
    "xbar = 65.1\n",
    "mu = 60\n",
    "sigma = 13.46\n",
    "alpha = 0.05"
   ]
  },
  {
   "cell_type": "code",
   "execution_count": 4,
   "id": "de3da096-f4e5-4d36-b408-fb93ceb47117",
   "metadata": {},
   "outputs": [
    {
     "data": {
      "text/plain": [
       "2.075323211943792"
      ]
     },
     "execution_count": 4,
     "metadata": {},
     "output_type": "execute_result"
    }
   ],
   "source": [
    "t = (xbar-mu)/(sigma/np.sqrt(n))\n",
    "t"
   ]
  },
  {
   "cell_type": "code",
   "execution_count": 11,
   "id": "a420eb73-8eff-4aba-a769-dbd99576395b",
   "metadata": {},
   "outputs": [
    {
     "data": {
      "text/plain": [
       "0.046932092328964004"
      ]
     },
     "execution_count": 11,
     "metadata": {},
     "output_type": "execute_result"
    }
   ],
   "source": [
    "# since it is a two tailed test\n",
    "p_val = 2*(1-st.t.cdf(abs(t), dof))\n",
    "p_val"
   ]
  },
  {
   "cell_type": "code",
   "execution_count": 12,
   "id": "a513c6a1-205d-4f9c-a0fe-61fb6a66b6ad",
   "metadata": {},
   "outputs": [
    {
     "name": "stdout",
     "output_type": "stream",
     "text": [
      "Reject Null Hypo\n"
     ]
    }
   ],
   "source": [
    "if(p_val>alpha):\n",
    "    print('Null Hypo cannot be rejected')\n",
    "else:\n",
    "    print('Reject Null Hypo')"
   ]
  },
  {
   "cell_type": "code",
   "execution_count": null,
   "id": "da7ed350-a0dc-43ed-a710-c4120a38cb96",
   "metadata": {},
   "outputs": [],
   "source": []
  }
 ],
 "metadata": {
  "kernelspec": {
   "display_name": "Python 3 (ipykernel)",
   "language": "python",
   "name": "python3"
  },
  "language_info": {
   "codemirror_mode": {
    "name": "ipython",
    "version": 3
   },
   "file_extension": ".py",
   "mimetype": "text/x-python",
   "name": "python",
   "nbconvert_exporter": "python",
   "pygments_lexer": "ipython3",
   "version": "3.9.12"
  }
 },
 "nbformat": 4,
 "nbformat_minor": 5
}
